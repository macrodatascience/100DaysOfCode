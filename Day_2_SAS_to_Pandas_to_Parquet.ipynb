{
  "nbformat": 4,
  "nbformat_minor": 0,
  "metadata": {
    "colab": {
      "name": "Day_2_SAS to Pandas to Parquet.ipynb",
      "provenance": [],
      "authorship_tag": "ABX9TyN7loRzrHjsKxzdnVFccPxF",
      "include_colab_link": true
    },
    "kernelspec": {
      "name": "python3",
      "display_name": "Python 3"
    },
    "language_info": {
      "name": "python"
    }
  },
  "cells": [
    {
      "cell_type": "markdown",
      "metadata": {
        "id": "view-in-github",
        "colab_type": "text"
      },
      "source": [
        "<a href=\"https://colab.research.google.com/github/macrodatascience/100DaysOfCode/blob/main/Day_2_SAS_to_Pandas_to_Parquet.ipynb\" target=\"_parent\"><img src=\"https://colab.research.google.com/assets/colab-badge.svg\" alt=\"Open In Colab\"/></a>"
      ]
    },
    {
      "cell_type": "markdown",
      "source": [
        "### **How to import SAS Datasets into Python Pandas DataFrames and convert them to Parquet format**"
      ],
      "metadata": {
        "id": "LPyyydp0XyD9"
      }
    },
    {
      "cell_type": "code",
      "source": [
        "!pip install sas7bdat"
      ],
      "metadata": {
        "colab": {
          "base_uri": "https://localhost:8080/"
        },
        "id": "fAFaGTkKX3wX",
        "outputId": "2570ea55-dcac-4372-b01a-ccac6fba7ed0"
      },
      "execution_count": 2,
      "outputs": [
        {
          "output_type": "stream",
          "name": "stdout",
          "text": [
            "Looking in indexes: https://pypi.org/simple, https://us-python.pkg.dev/colab-wheels/public/simple/\n",
            "Collecting sas7bdat\n",
            "  Downloading sas7bdat-2.2.3.tar.gz (16 kB)\n",
            "Requirement already satisfied: six>=1.8.0 in /usr/local/lib/python3.7/dist-packages (from sas7bdat) (1.15.0)\n",
            "Building wheels for collected packages: sas7bdat\n",
            "  Building wheel for sas7bdat (setup.py) ... \u001b[?25l\u001b[?25hdone\n",
            "  Created wheel for sas7bdat: filename=sas7bdat-2.2.3-py3-none-any.whl size=16309 sha256=2d7b2a452081dbe097608b7a0b20a42427b0b2a6e5224cbf5110f4a3a4d4598a\n",
            "  Stored in directory: /root/.cache/pip/wheels/69/dd/ca/1fd7bf96640d87457056b763e015e20d8e566041bd3273d966\n",
            "Successfully built sas7bdat\n",
            "Installing collected packages: sas7bdat\n",
            "Successfully installed sas7bdat-2.2.3\n"
          ]
        }
      ]
    },
    {
      "cell_type": "code",
      "execution_count": 15,
      "metadata": {
        "id": "lwj-aYGoXsc7"
      },
      "outputs": [],
      "source": [
        "import pandas as pd\n",
        "import numpy as np\n",
        "import pyarrow as pa\n",
        "import pyarrow.parquet as pq\n",
        "from sas7bdat import SAS7BDAT"
      ]
    },
    {
      "cell_type": "code",
      "source": [
        "import platform\n",
        "print(f\"Python version: {platform.python_version()}\")\n",
        "print(f\"Pandas version: {pd.__version__}\")\n",
        "print(f\"Pyarrow version: {pa.__version__}\")"
      ],
      "metadata": {
        "colab": {
          "base_uri": "https://localhost:8080/"
        },
        "id": "OFfIEfraYnCJ",
        "outputId": "e7192edd-a324-43e3-bf9c-44131d868319"
      },
      "execution_count": 16,
      "outputs": [
        {
          "output_type": "stream",
          "name": "stdout",
          "text": [
            "Python version: 3.7.13\n",
            "Pandas version: 1.3.5\n",
            "Pyarrow version: 6.0.1\n"
          ]
        }
      ]
    },
    {
      "cell_type": "code",
      "source": [
        "## (https://catalog.data.gov/dataset/private-school-universe-survey-2017-18"
      ],
      "metadata": {
        "id": "gQ4Qt_WiYyQ-"
      },
      "execution_count": null,
      "outputs": []
    },
    {
      "cell_type": "code",
      "source": [
        "## SAS Visual Forecasting Sample Datasets"
      ],
      "metadata": {
        "id": "bkrWPQruZZHx"
      },
      "execution_count": 17,
      "outputs": []
    },
    {
      "cell_type": "code",
      "source": [
        "from google.colab import drive\n",
        "drive.mount('/content/gdrive')"
      ],
      "metadata": {
        "colab": {
          "base_uri": "https://localhost:8080/"
        },
        "id": "-4g0eOO6elrN",
        "outputId": "55a0f9f8-99e8-44a9-eae5-75c3b9b06f8c"
      },
      "execution_count": 18,
      "outputs": [
        {
          "output_type": "stream",
          "name": "stdout",
          "text": [
            "Mounted at /content/gdrive\n"
          ]
        }
      ]
    },
    {
      "cell_type": "code",
      "source": [
        "with SAS7BDAT('./DCSKINPRODUCT.sas7bdat', skip_header=False) as reader:\n",
        "    df = reader.to_data_frame()"
      ],
      "metadata": {
        "colab": {
          "base_uri": "https://localhost:8080/"
        },
        "id": "B2z_5NDKerYd",
        "outputId": "ecb02395-e8e3-46f7-9dd7-ba50ec256e98"
      },
      "execution_count": 19,
      "outputs": [
        {
          "output_type": "stream",
          "name": "stderr",
          "text": [
            "\u001b[33m[DCSKINPRODUCT.sas7bdat] header length 65536 != 8192\u001b[0m\n",
            "WARNING:./DCSKINPRODUCT.sas7bdat:\u001b[33m[DCSKINPRODUCT.sas7bdat] header length 65536 != 8192\u001b[0m\n"
          ]
        }
      ]
    },
    {
      "cell_type": "code",
      "source": [
        "df.head()"
      ],
      "metadata": {
        "colab": {
          "base_uri": "https://localhost:8080/",
          "height": 206
        },
        "id": "K6JHldtWe25Q",
        "outputId": "19cfbb17-1ef1-46ae-a401-79cd93a96cbb"
      },
      "execution_count": 20,
      "outputs": [
        {
          "output_type": "execute_result",
          "data": {
            "text/plain": [
              "                                      ProductKey DistributionCenter     DATE  \\\n",
              "0  Javier's Deep Cleansing Hair Shampoo 2.718 dl               Cary  19399.0   \n",
              "1  Javier's Deep Cleansing Hair Shampoo 2.718 dl               Cary  19406.0   \n",
              "2  Javier's Deep Cleansing Hair Shampoo 2.718 dl               Cary  19413.0   \n",
              "3  Javier's Deep Cleansing Hair Shampoo 2.718 dl               Cary  19420.0   \n",
              "4  Javier's Deep Cleansing Hair Shampoo 2.718 dl               Cary  19427.0   \n",
              "\n",
              "   Discount  Revenue  \n",
              "0       0.0      0.0  \n",
              "1       0.0      0.0  \n",
              "2       0.0      0.0  \n",
              "3       0.0      0.0  \n",
              "4       0.0      0.0  "
            ],
            "text/html": [
              "\n",
              "  <div id=\"df-2dbe0167-2782-442b-a53a-41fc8d8e8e14\">\n",
              "    <div class=\"colab-df-container\">\n",
              "      <div>\n",
              "<style scoped>\n",
              "    .dataframe tbody tr th:only-of-type {\n",
              "        vertical-align: middle;\n",
              "    }\n",
              "\n",
              "    .dataframe tbody tr th {\n",
              "        vertical-align: top;\n",
              "    }\n",
              "\n",
              "    .dataframe thead th {\n",
              "        text-align: right;\n",
              "    }\n",
              "</style>\n",
              "<table border=\"1\" class=\"dataframe\">\n",
              "  <thead>\n",
              "    <tr style=\"text-align: right;\">\n",
              "      <th></th>\n",
              "      <th>ProductKey</th>\n",
              "      <th>DistributionCenter</th>\n",
              "      <th>DATE</th>\n",
              "      <th>Discount</th>\n",
              "      <th>Revenue</th>\n",
              "    </tr>\n",
              "  </thead>\n",
              "  <tbody>\n",
              "    <tr>\n",
              "      <th>0</th>\n",
              "      <td>Javier's Deep Cleansing Hair Shampoo 2.718 dl</td>\n",
              "      <td>Cary</td>\n",
              "      <td>19399.0</td>\n",
              "      <td>0.0</td>\n",
              "      <td>0.0</td>\n",
              "    </tr>\n",
              "    <tr>\n",
              "      <th>1</th>\n",
              "      <td>Javier's Deep Cleansing Hair Shampoo 2.718 dl</td>\n",
              "      <td>Cary</td>\n",
              "      <td>19406.0</td>\n",
              "      <td>0.0</td>\n",
              "      <td>0.0</td>\n",
              "    </tr>\n",
              "    <tr>\n",
              "      <th>2</th>\n",
              "      <td>Javier's Deep Cleansing Hair Shampoo 2.718 dl</td>\n",
              "      <td>Cary</td>\n",
              "      <td>19413.0</td>\n",
              "      <td>0.0</td>\n",
              "      <td>0.0</td>\n",
              "    </tr>\n",
              "    <tr>\n",
              "      <th>3</th>\n",
              "      <td>Javier's Deep Cleansing Hair Shampoo 2.718 dl</td>\n",
              "      <td>Cary</td>\n",
              "      <td>19420.0</td>\n",
              "      <td>0.0</td>\n",
              "      <td>0.0</td>\n",
              "    </tr>\n",
              "    <tr>\n",
              "      <th>4</th>\n",
              "      <td>Javier's Deep Cleansing Hair Shampoo 2.718 dl</td>\n",
              "      <td>Cary</td>\n",
              "      <td>19427.0</td>\n",
              "      <td>0.0</td>\n",
              "      <td>0.0</td>\n",
              "    </tr>\n",
              "  </tbody>\n",
              "</table>\n",
              "</div>\n",
              "      <button class=\"colab-df-convert\" onclick=\"convertToInteractive('df-2dbe0167-2782-442b-a53a-41fc8d8e8e14')\"\n",
              "              title=\"Convert this dataframe to an interactive table.\"\n",
              "              style=\"display:none;\">\n",
              "        \n",
              "  <svg xmlns=\"http://www.w3.org/2000/svg\" height=\"24px\"viewBox=\"0 0 24 24\"\n",
              "       width=\"24px\">\n",
              "    <path d=\"M0 0h24v24H0V0z\" fill=\"none\"/>\n",
              "    <path d=\"M18.56 5.44l.94 2.06.94-2.06 2.06-.94-2.06-.94-.94-2.06-.94 2.06-2.06.94zm-11 1L8.5 8.5l.94-2.06 2.06-.94-2.06-.94L8.5 2.5l-.94 2.06-2.06.94zm10 10l.94 2.06.94-2.06 2.06-.94-2.06-.94-.94-2.06-.94 2.06-2.06.94z\"/><path d=\"M17.41 7.96l-1.37-1.37c-.4-.4-.92-.59-1.43-.59-.52 0-1.04.2-1.43.59L10.3 9.45l-7.72 7.72c-.78.78-.78 2.05 0 2.83L4 21.41c.39.39.9.59 1.41.59.51 0 1.02-.2 1.41-.59l7.78-7.78 2.81-2.81c.8-.78.8-2.07 0-2.86zM5.41 20L4 18.59l7.72-7.72 1.47 1.35L5.41 20z\"/>\n",
              "  </svg>\n",
              "      </button>\n",
              "      \n",
              "  <style>\n",
              "    .colab-df-container {\n",
              "      display:flex;\n",
              "      flex-wrap:wrap;\n",
              "      gap: 12px;\n",
              "    }\n",
              "\n",
              "    .colab-df-convert {\n",
              "      background-color: #E8F0FE;\n",
              "      border: none;\n",
              "      border-radius: 50%;\n",
              "      cursor: pointer;\n",
              "      display: none;\n",
              "      fill: #1967D2;\n",
              "      height: 32px;\n",
              "      padding: 0 0 0 0;\n",
              "      width: 32px;\n",
              "    }\n",
              "\n",
              "    .colab-df-convert:hover {\n",
              "      background-color: #E2EBFA;\n",
              "      box-shadow: 0px 1px 2px rgba(60, 64, 67, 0.3), 0px 1px 3px 1px rgba(60, 64, 67, 0.15);\n",
              "      fill: #174EA6;\n",
              "    }\n",
              "\n",
              "    [theme=dark] .colab-df-convert {\n",
              "      background-color: #3B4455;\n",
              "      fill: #D2E3FC;\n",
              "    }\n",
              "\n",
              "    [theme=dark] .colab-df-convert:hover {\n",
              "      background-color: #434B5C;\n",
              "      box-shadow: 0px 1px 3px 1px rgba(0, 0, 0, 0.15);\n",
              "      filter: drop-shadow(0px 1px 2px rgba(0, 0, 0, 0.3));\n",
              "      fill: #FFFFFF;\n",
              "    }\n",
              "  </style>\n",
              "\n",
              "      <script>\n",
              "        const buttonEl =\n",
              "          document.querySelector('#df-2dbe0167-2782-442b-a53a-41fc8d8e8e14 button.colab-df-convert');\n",
              "        buttonEl.style.display =\n",
              "          google.colab.kernel.accessAllowed ? 'block' : 'none';\n",
              "\n",
              "        async function convertToInteractive(key) {\n",
              "          const element = document.querySelector('#df-2dbe0167-2782-442b-a53a-41fc8d8e8e14');\n",
              "          const dataTable =\n",
              "            await google.colab.kernel.invokeFunction('convertToInteractive',\n",
              "                                                     [key], {});\n",
              "          if (!dataTable) return;\n",
              "\n",
              "          const docLinkHtml = 'Like what you see? Visit the ' +\n",
              "            '<a target=\"_blank\" href=https://colab.research.google.com/notebooks/data_table.ipynb>data table notebook</a>'\n",
              "            + ' to learn more about interactive tables.';\n",
              "          element.innerHTML = '';\n",
              "          dataTable['output_type'] = 'display_data';\n",
              "          await google.colab.output.renderOutput(dataTable, element);\n",
              "          const docLink = document.createElement('div');\n",
              "          docLink.innerHTML = docLinkHtml;\n",
              "          element.appendChild(docLink);\n",
              "        }\n",
              "      </script>\n",
              "    </div>\n",
              "  </div>\n",
              "  "
            ]
          },
          "metadata": {},
          "execution_count": 20
        }
      ]
    },
    {
      "cell_type": "code",
      "source": [
        "df.info(verbose=True)"
      ],
      "metadata": {
        "colab": {
          "base_uri": "https://localhost:8080/"
        },
        "id": "r4Ch2Aube6hb",
        "outputId": "4eede90e-765f-4e9f-bf1f-e125e946b0a5"
      },
      "execution_count": 23,
      "outputs": [
        {
          "output_type": "stream",
          "name": "stdout",
          "text": [
            "<class 'pandas.core.frame.DataFrame'>\n",
            "RangeIndex: 152130 entries, 0 to 152129\n",
            "Data columns (total 5 columns):\n",
            " #   Column              Non-Null Count   Dtype  \n",
            "---  ------              --------------   -----  \n",
            " 0   ProductKey          152130 non-null  object \n",
            " 1   DistributionCenter  152130 non-null  object \n",
            " 2   DATE                152130 non-null  float64\n",
            " 3   Discount            152130 non-null  float64\n",
            " 4   Revenue             151830 non-null  float64\n",
            "dtypes: float64(3), object(2)\n",
            "memory usage: 5.8+ MB\n"
          ]
        }
      ]
    },
    {
      "cell_type": "code",
      "source": [
        "df.head()"
      ],
      "metadata": {
        "colab": {
          "base_uri": "https://localhost:8080/",
          "height": 206
        },
        "id": "_kIo6FqTe-Io",
        "outputId": "aa99c360-85ff-4914-dbdb-8a9aa26345f1"
      },
      "execution_count": 24,
      "outputs": [
        {
          "output_type": "execute_result",
          "data": {
            "text/plain": [
              "                                      ProductKey DistributionCenter     DATE  \\\n",
              "0  Javier's Deep Cleansing Hair Shampoo 2.718 dl               Cary  19399.0   \n",
              "1  Javier's Deep Cleansing Hair Shampoo 2.718 dl               Cary  19406.0   \n",
              "2  Javier's Deep Cleansing Hair Shampoo 2.718 dl               Cary  19413.0   \n",
              "3  Javier's Deep Cleansing Hair Shampoo 2.718 dl               Cary  19420.0   \n",
              "4  Javier's Deep Cleansing Hair Shampoo 2.718 dl               Cary  19427.0   \n",
              "\n",
              "   Discount  Revenue  \n",
              "0       0.0      0.0  \n",
              "1       0.0      0.0  \n",
              "2       0.0      0.0  \n",
              "3       0.0      0.0  \n",
              "4       0.0      0.0  "
            ],
            "text/html": [
              "\n",
              "  <div id=\"df-5766a655-8c5e-4ad4-9a46-d214d875476d\">\n",
              "    <div class=\"colab-df-container\">\n",
              "      <div>\n",
              "<style scoped>\n",
              "    .dataframe tbody tr th:only-of-type {\n",
              "        vertical-align: middle;\n",
              "    }\n",
              "\n",
              "    .dataframe tbody tr th {\n",
              "        vertical-align: top;\n",
              "    }\n",
              "\n",
              "    .dataframe thead th {\n",
              "        text-align: right;\n",
              "    }\n",
              "</style>\n",
              "<table border=\"1\" class=\"dataframe\">\n",
              "  <thead>\n",
              "    <tr style=\"text-align: right;\">\n",
              "      <th></th>\n",
              "      <th>ProductKey</th>\n",
              "      <th>DistributionCenter</th>\n",
              "      <th>DATE</th>\n",
              "      <th>Discount</th>\n",
              "      <th>Revenue</th>\n",
              "    </tr>\n",
              "  </thead>\n",
              "  <tbody>\n",
              "    <tr>\n",
              "      <th>0</th>\n",
              "      <td>Javier's Deep Cleansing Hair Shampoo 2.718 dl</td>\n",
              "      <td>Cary</td>\n",
              "      <td>19399.0</td>\n",
              "      <td>0.0</td>\n",
              "      <td>0.0</td>\n",
              "    </tr>\n",
              "    <tr>\n",
              "      <th>1</th>\n",
              "      <td>Javier's Deep Cleansing Hair Shampoo 2.718 dl</td>\n",
              "      <td>Cary</td>\n",
              "      <td>19406.0</td>\n",
              "      <td>0.0</td>\n",
              "      <td>0.0</td>\n",
              "    </tr>\n",
              "    <tr>\n",
              "      <th>2</th>\n",
              "      <td>Javier's Deep Cleansing Hair Shampoo 2.718 dl</td>\n",
              "      <td>Cary</td>\n",
              "      <td>19413.0</td>\n",
              "      <td>0.0</td>\n",
              "      <td>0.0</td>\n",
              "    </tr>\n",
              "    <tr>\n",
              "      <th>3</th>\n",
              "      <td>Javier's Deep Cleansing Hair Shampoo 2.718 dl</td>\n",
              "      <td>Cary</td>\n",
              "      <td>19420.0</td>\n",
              "      <td>0.0</td>\n",
              "      <td>0.0</td>\n",
              "    </tr>\n",
              "    <tr>\n",
              "      <th>4</th>\n",
              "      <td>Javier's Deep Cleansing Hair Shampoo 2.718 dl</td>\n",
              "      <td>Cary</td>\n",
              "      <td>19427.0</td>\n",
              "      <td>0.0</td>\n",
              "      <td>0.0</td>\n",
              "    </tr>\n",
              "  </tbody>\n",
              "</table>\n",
              "</div>\n",
              "      <button class=\"colab-df-convert\" onclick=\"convertToInteractive('df-5766a655-8c5e-4ad4-9a46-d214d875476d')\"\n",
              "              title=\"Convert this dataframe to an interactive table.\"\n",
              "              style=\"display:none;\">\n",
              "        \n",
              "  <svg xmlns=\"http://www.w3.org/2000/svg\" height=\"24px\"viewBox=\"0 0 24 24\"\n",
              "       width=\"24px\">\n",
              "    <path d=\"M0 0h24v24H0V0z\" fill=\"none\"/>\n",
              "    <path d=\"M18.56 5.44l.94 2.06.94-2.06 2.06-.94-2.06-.94-.94-2.06-.94 2.06-2.06.94zm-11 1L8.5 8.5l.94-2.06 2.06-.94-2.06-.94L8.5 2.5l-.94 2.06-2.06.94zm10 10l.94 2.06.94-2.06 2.06-.94-2.06-.94-.94-2.06-.94 2.06-2.06.94z\"/><path d=\"M17.41 7.96l-1.37-1.37c-.4-.4-.92-.59-1.43-.59-.52 0-1.04.2-1.43.59L10.3 9.45l-7.72 7.72c-.78.78-.78 2.05 0 2.83L4 21.41c.39.39.9.59 1.41.59.51 0 1.02-.2 1.41-.59l7.78-7.78 2.81-2.81c.8-.78.8-2.07 0-2.86zM5.41 20L4 18.59l7.72-7.72 1.47 1.35L5.41 20z\"/>\n",
              "  </svg>\n",
              "      </button>\n",
              "      \n",
              "  <style>\n",
              "    .colab-df-container {\n",
              "      display:flex;\n",
              "      flex-wrap:wrap;\n",
              "      gap: 12px;\n",
              "    }\n",
              "\n",
              "    .colab-df-convert {\n",
              "      background-color: #E8F0FE;\n",
              "      border: none;\n",
              "      border-radius: 50%;\n",
              "      cursor: pointer;\n",
              "      display: none;\n",
              "      fill: #1967D2;\n",
              "      height: 32px;\n",
              "      padding: 0 0 0 0;\n",
              "      width: 32px;\n",
              "    }\n",
              "\n",
              "    .colab-df-convert:hover {\n",
              "      background-color: #E2EBFA;\n",
              "      box-shadow: 0px 1px 2px rgba(60, 64, 67, 0.3), 0px 1px 3px 1px rgba(60, 64, 67, 0.15);\n",
              "      fill: #174EA6;\n",
              "    }\n",
              "\n",
              "    [theme=dark] .colab-df-convert {\n",
              "      background-color: #3B4455;\n",
              "      fill: #D2E3FC;\n",
              "    }\n",
              "\n",
              "    [theme=dark] .colab-df-convert:hover {\n",
              "      background-color: #434B5C;\n",
              "      box-shadow: 0px 1px 3px 1px rgba(0, 0, 0, 0.15);\n",
              "      filter: drop-shadow(0px 1px 2px rgba(0, 0, 0, 0.3));\n",
              "      fill: #FFFFFF;\n",
              "    }\n",
              "  </style>\n",
              "\n",
              "      <script>\n",
              "        const buttonEl =\n",
              "          document.querySelector('#df-5766a655-8c5e-4ad4-9a46-d214d875476d button.colab-df-convert');\n",
              "        buttonEl.style.display =\n",
              "          google.colab.kernel.accessAllowed ? 'block' : 'none';\n",
              "\n",
              "        async function convertToInteractive(key) {\n",
              "          const element = document.querySelector('#df-5766a655-8c5e-4ad4-9a46-d214d875476d');\n",
              "          const dataTable =\n",
              "            await google.colab.kernel.invokeFunction('convertToInteractive',\n",
              "                                                     [key], {});\n",
              "          if (!dataTable) return;\n",
              "\n",
              "          const docLinkHtml = 'Like what you see? Visit the ' +\n",
              "            '<a target=\"_blank\" href=https://colab.research.google.com/notebooks/data_table.ipynb>data table notebook</a>'\n",
              "            + ' to learn more about interactive tables.';\n",
              "          element.innerHTML = '';\n",
              "          dataTable['output_type'] = 'display_data';\n",
              "          await google.colab.output.renderOutput(dataTable, element);\n",
              "          const docLink = document.createElement('div');\n",
              "          docLink.innerHTML = docLinkHtml;\n",
              "          element.appendChild(docLink);\n",
              "        }\n",
              "      </script>\n",
              "    </div>\n",
              "  </div>\n",
              "  "
            ]
          },
          "metadata": {},
          "execution_count": 24
        }
      ]
    },
    {
      "cell_type": "markdown",
      "source": [
        "### **Convert Pandas DataFrame to Arrow Table**"
      ],
      "metadata": {
        "id": "PN7DMSOmGWqM"
      }
    },
    {
      "cell_type": "code",
      "source": [
        "df_table = pa.Table.from_pandas(df)\n",
        "df_table"
      ],
      "metadata": {
        "colab": {
          "base_uri": "https://localhost:8080/"
        },
        "id": "-h_cpvcGGCL1",
        "outputId": "b646f032-63b4-45e5-8979-2219fd3d7554"
      },
      "execution_count": 25,
      "outputs": [
        {
          "output_type": "execute_result",
          "data": {
            "text/plain": [
              "pyarrow.Table\n",
              "ProductKey: string\n",
              "DistributionCenter: string\n",
              "DATE: double\n",
              "Discount: double\n",
              "Revenue: double\n",
              "----\n",
              "ProductKey: [[\"Javier's Deep Cleansing Hair Shampoo 2.718 dl\",\"Javier's Deep Cleansing Hair Shampoo 2.718 dl\",\"Javier's Deep Cleansing Hair Shampoo 2.718 dl\",\"Javier's Deep Cleansing Hair Shampoo 2.718 dl\",\"Javier's Deep Cleansing Hair Shampoo 2.718 dl\",\"Javier's Deep Cleansing Hair Shampoo 2.718 dl\",\"Javier's Deep Cleansing Hair Shampoo 2.718 dl\",\"Javier's Deep Cleansing Hair Shampoo 2.718 dl\",\"Javier's Deep Cleansing Hair Shampoo 2.718 dl\",\"Javier's Deep Cleansing Hair Shampoo 2.718 dl\",...,\"Sujatha's Sensitve skin Lotion 8 dl\",\"Sujatha's Sensitve skin Lotion 8 dl\",\"Sujatha's Sensitve skin Lotion 8 dl\",\"Sujatha's Sensitve skin Lotion 8 dl\",\"Sujatha's Sensitve skin Lotion 8 dl\",\"Sujatha's Sensitve skin Lotion 8 dl\",\"Sujatha's Sensitve skin Lotion 8 dl\",\"Sujatha's Sensitve skin Lotion 8 dl\",\"Sujatha's Sensitve skin Lotion 8 dl\",\"Sujatha's Sensitve skin Lotion 8 dl\"]]\n",
              "DistributionCenter: [[\"Cary\",\"Cary\",\"Cary\",\"Cary\",\"Cary\",\"Cary\",\"Cary\",\"Cary\",\"Cary\",\"Cary\",...,\"Toronto\",\"Toronto\",\"Toronto\",\"Toronto\",\"Toronto\",\"Toronto\",\"Toronto\",\"Toronto\",\"Toronto\",\"Toronto\"]]\n",
              "DATE: [[19399,19406,19413,19420,19427,19434,19441,19448,19455,19462,...,20099,20106,20113,20120,20127,20134,20141,20148,20155,20162]]\n",
              "Discount: [[0,0,0,0,0,0,0,0,0,0,...,0,0,0,0,0,0,0,0,0,0]]\n",
              "Revenue: [[0,0,0,0,0,0,0,0,0,0,...,26384,26187,27465,26988,26725,27027,28124,25574,25812,25532]]"
            ]
          },
          "metadata": {},
          "execution_count": 25
        }
      ]
    },
    {
      "cell_type": "markdown",
      "source": [
        "### **Write Arrow Table to a Parquent file**"
      ],
      "metadata": {
        "id": "YL2mo0Y3GjRA"
      }
    },
    {
      "cell_type": "code",
      "source": [
        "pq.write_table(df_table, './DCSKINPRODUCT.parquet', compression='SNAPPY')"
      ],
      "metadata": {
        "id": "kN4ajxYzGd4M"
      },
      "execution_count": 26,
      "outputs": []
    },
    {
      "cell_type": "markdown",
      "source": [
        "### **Validate Parquet file**"
      ],
      "metadata": {
        "id": "o_J51qmCG2V5"
      }
    },
    {
      "cell_type": "code",
      "source": [
        "df_parquet = pd.read_parquet('./DCSKINPRODUCT.parquet')\n",
        "df_parquet.info()"
      ],
      "metadata": {
        "colab": {
          "base_uri": "https://localhost:8080/"
        },
        "id": "dZGtrWhjGu9g",
        "outputId": "955c4847-e188-4f2b-997b-0b6a4b17881c"
      },
      "execution_count": 27,
      "outputs": [
        {
          "output_type": "stream",
          "name": "stdout",
          "text": [
            "<class 'pandas.core.frame.DataFrame'>\n",
            "RangeIndex: 152130 entries, 0 to 152129\n",
            "Data columns (total 5 columns):\n",
            " #   Column              Non-Null Count   Dtype  \n",
            "---  ------              --------------   -----  \n",
            " 0   ProductKey          152130 non-null  object \n",
            " 1   DistributionCenter  152130 non-null  object \n",
            " 2   DATE                152130 non-null  float64\n",
            " 3   Discount            152130 non-null  float64\n",
            " 4   Revenue             151830 non-null  float64\n",
            "dtypes: float64(3), object(2)\n",
            "memory usage: 5.8+ MB\n"
          ]
        }
      ]
    },
    {
      "cell_type": "code",
      "source": [
        "df.columns"
      ],
      "metadata": {
        "colab": {
          "base_uri": "https://localhost:8080/"
        },
        "id": "YXyIm0zoHA5v",
        "outputId": "3de34a65-8ef3-4e59-d50f-e6a421dcb1a8"
      },
      "execution_count": 30,
      "outputs": [
        {
          "output_type": "execute_result",
          "data": {
            "text/plain": [
              "Index(['ProductKey', 'DistributionCenter', 'DATE', 'Discount', 'Revenue'], dtype='object')"
            ]
          },
          "metadata": {},
          "execution_count": 30
        }
      ]
    },
    {
      "cell_type": "code",
      "source": [
        ""
      ],
      "metadata": {
        "id": "Nj6oaGBpHJ8o"
      },
      "execution_count": null,
      "outputs": []
    }
  ]
}