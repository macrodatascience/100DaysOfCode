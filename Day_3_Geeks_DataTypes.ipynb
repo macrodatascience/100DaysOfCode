{
  "nbformat": 4,
  "nbformat_minor": 0,
  "metadata": {
    "colab": {
      "name": "Day_3_Geeks_DataTypes.ipynb",
      "provenance": [],
      "collapsed_sections": [
        "alEuUdNbJcKa",
        "s1mxeZH-KEgp",
        "1FBDbyXbQmAJ",
        "8evbCv8tRsD3",
        "7tw691cwSajq",
        "JDcCBiURStzU",
        "QT270DGcWsWA",
        "6WvpvIJwdnQD",
        "Eelt4NRpeOQ6",
        "mbmwXAMaldZ8",
        "U1_cursFrKxc"
      ],
      "authorship_tag": "ABX9TyPX/uA0zg/6IzLj0t47VT44",
      "include_colab_link": true
    },
    "kernelspec": {
      "name": "python3",
      "display_name": "Python 3"
    },
    "language_info": {
      "name": "python"
    }
  },
  "cells": [
    {
      "cell_type": "markdown",
      "metadata": {
        "id": "view-in-github",
        "colab_type": "text"
      },
      "source": [
        "<a href=\"https://colab.research.google.com/github/macrodatascience/100DaysOfCode/blob/main/Day_3_Geeks_DataTypes.ipynb\" target=\"_parent\"><img src=\"https://colab.research.google.com/assets/colab-badge.svg\" alt=\"Open In Colab\"/></a>"
      ]
    },
    {
      "cell_type": "markdown",
      "source": [
        "## **TypeError** \n",
        "## **IndexError**"
      ],
      "metadata": {
        "id": "1VWLy2FLAkMd"
      }
    },
    {
      "cell_type": "code",
      "execution_count": null,
      "metadata": {
        "colab": {
          "base_uri": "https://localhost:8080/",
          "height": 183
        },
        "id": "aiIfMtq9AVnH",
        "outputId": "33c9db96-3de6-491b-ccf2-763435bebc7c"
      },
      "outputs": [
        {
          "output_type": "error",
          "ename": "IndexError",
          "evalue": "ignored",
          "traceback": [
            "\u001b[0;31m---------------------------------------------------------------------------\u001b[0m",
            "\u001b[0;31mIndexError\u001b[0m                                Traceback (most recent call last)",
            "\u001b[0;32m<ipython-input-154-30134d328e19>\u001b[0m in \u001b[0;36m<module>\u001b[0;34m()\u001b[0m\n\u001b[1;32m      1\u001b[0m \u001b[0mString1\u001b[0m \u001b[0;34m=\u001b[0m \u001b[0;34m'Welcome'\u001b[0m\u001b[0;34m\u001b[0m\u001b[0;34m\u001b[0m\u001b[0m\n\u001b[0;32m----> 2\u001b[0;31m \u001b[0mString1\u001b[0m\u001b[0;34m[\u001b[0m\u001b[0;36m10\u001b[0m\u001b[0;34m]\u001b[0m\u001b[0;34m\u001b[0m\u001b[0;34m\u001b[0m\u001b[0m\n\u001b[0m",
            "\u001b[0;31mIndexError\u001b[0m: string index out of range"
          ]
        }
      ],
      "source": [
        "String1 = 'Welcome'\n",
        "String1[10]"
      ]
    },
    {
      "cell_type": "code",
      "source": [
        "String1[-1.5]"
      ],
      "metadata": {
        "colab": {
          "base_uri": "https://localhost:8080/",
          "height": 166
        },
        "id": "4ZLNRsEAAgQk",
        "outputId": "8959dfa4-5cbc-4fd3-dbc4-74cb22b66cb0"
      },
      "execution_count": null,
      "outputs": [
        {
          "output_type": "error",
          "ename": "TypeError",
          "evalue": "ignored",
          "traceback": [
            "\u001b[0;31m---------------------------------------------------------------------------\u001b[0m",
            "\u001b[0;31mTypeError\u001b[0m                                 Traceback (most recent call last)",
            "\u001b[0;32m<ipython-input-141-18f754aa4f1d>\u001b[0m in \u001b[0;36m<module>\u001b[0;34m()\u001b[0m\n\u001b[0;32m----> 1\u001b[0;31m \u001b[0mString1\u001b[0m\u001b[0;34m[\u001b[0m\u001b[0;34m-\u001b[0m\u001b[0;36m1.5\u001b[0m\u001b[0;34m]\u001b[0m\u001b[0;34m\u001b[0m\u001b[0;34m\u001b[0m\u001b[0m\n\u001b[0m",
            "\u001b[0;31mTypeError\u001b[0m: string indices must be integers"
          ]
        }
      ]
    },
    {
      "cell_type": "code",
      "source": [
        "String1[-1]"
      ],
      "metadata": {
        "colab": {
          "base_uri": "https://localhost:8080/",
          "height": 35
        },
        "id": "kbLqsn--Ai2C",
        "outputId": "7b5b989d-8cbe-4bde-ec7f-886a3642f1de"
      },
      "execution_count": null,
      "outputs": [
        {
          "output_type": "execute_result",
          "data": {
            "text/plain": [
              "'e'"
            ],
            "application/vnd.google.colaboratory.intrinsic+json": {
              "type": "string"
            }
          },
          "metadata": {},
          "execution_count": 142
        }
      ]
    },
    {
      "cell_type": "code",
      "source": [
        "String1[-3]"
      ],
      "metadata": {
        "colab": {
          "base_uri": "https://localhost:8080/",
          "height": 35
        },
        "id": "gFv24BxTA_Yj",
        "outputId": "48ce24b5-a025-4964-a228-81897f56cd70"
      },
      "execution_count": null,
      "outputs": [
        {
          "output_type": "execute_result",
          "data": {
            "text/plain": [
              "'o'"
            ],
            "application/vnd.google.colaboratory.intrinsic+json": {
              "type": "string"
            }
          },
          "metadata": {},
          "execution_count": 143
        }
      ]
    },
    {
      "cell_type": "code",
      "source": [
        "String1"
      ],
      "metadata": {
        "colab": {
          "base_uri": "https://localhost:8080/",
          "height": 35
        },
        "id": "1UUUaxH7EBYb",
        "outputId": "ea96193a-5e55-47b4-cd97-0c61514356cb"
      },
      "execution_count": null,
      "outputs": [
        {
          "output_type": "execute_result",
          "data": {
            "text/plain": [
              "'Welcome'"
            ],
            "application/vnd.google.colaboratory.intrinsic+json": {
              "type": "string"
            }
          },
          "metadata": {},
          "execution_count": 144
        }
      ]
    },
    {
      "cell_type": "code",
      "source": [
        "String1[::-1]"
      ],
      "metadata": {
        "colab": {
          "base_uri": "https://localhost:8080/",
          "height": 35
        },
        "id": "Skfg-pk2BDCb",
        "outputId": "5704e692-f3bb-4aa4-e194-56720e3e71d0"
      },
      "execution_count": null,
      "outputs": [
        {
          "output_type": "execute_result",
          "data": {
            "text/plain": [
              "'emocleW'"
            ],
            "application/vnd.google.colaboratory.intrinsic+json": {
              "type": "string"
            }
          },
          "metadata": {},
          "execution_count": 145
        }
      ]
    },
    {
      "cell_type": "code",
      "source": [
        "String1[3:-2]"
      ],
      "metadata": {
        "colab": {
          "base_uri": "https://localhost:8080/",
          "height": 35
        },
        "id": "wpjKqaHXD50N",
        "outputId": "2805f4fb-d63c-4ec7-b6aa-d29e75075e1f"
      },
      "execution_count": null,
      "outputs": [
        {
          "output_type": "execute_result",
          "data": {
            "text/plain": [
              "'co'"
            ],
            "application/vnd.google.colaboratory.intrinsic+json": {
              "type": "string"
            }
          },
          "metadata": {},
          "execution_count": 146
        }
      ]
    },
    {
      "cell_type": "markdown",
      "source": [
        "## **Updating a String**\n",
        "## **Strings are immutable, so need to convert them into a list and update them, and convert back to string**"
      ],
      "metadata": {
        "id": "290kqwgAN8Bd"
      }
    },
    {
      "cell_type": "code",
      "source": [
        "String1 = 'Welcome'\n",
        "print(id(String1))\n",
        "lstA = list(String1)\n",
        "print(lstA)\n"
      ],
      "metadata": {
        "colab": {
          "base_uri": "https://localhost:8080/"
        },
        "id": "Ho6TH2W2D_kZ",
        "outputId": "39b0b175-93b2-452a-e994-edbe38624096"
      },
      "execution_count": null,
      "outputs": [
        {
          "output_type": "stream",
          "name": "stdout",
          "text": [
            "140123199914224\n",
            "['W', 'e', 'l', 'c', 'o', 'm', 'e']\n"
          ]
        }
      ]
    },
    {
      "cell_type": "code",
      "source": [
        "lstA.append(\" to London\")\n",
        "lstA"
      ],
      "metadata": {
        "colab": {
          "base_uri": "https://localhost:8080/"
        },
        "id": "tmrJfsolOIqU",
        "outputId": "c72ad252-95b2-4bc6-aa0d-24f0b334d361"
      },
      "execution_count": null,
      "outputs": [
        {
          "output_type": "execute_result",
          "data": {
            "text/plain": [
              "['W', 'e', 'l', 'c', 'o', 'm', 'e', ' to London']"
            ]
          },
          "metadata": {},
          "execution_count": 148
        }
      ]
    },
    {
      "cell_type": "code",
      "source": [
        "String1 = ''.join(lstA)\n",
        "String1"
      ],
      "metadata": {
        "colab": {
          "base_uri": "https://localhost:8080/",
          "height": 35
        },
        "id": "FTD-rwpNPuJE",
        "outputId": "d2af25ff-a696-4093-e2aa-53b04dafdd51"
      },
      "execution_count": null,
      "outputs": [
        {
          "output_type": "execute_result",
          "data": {
            "text/plain": [
              "'Welcome to London'"
            ],
            "application/vnd.google.colaboratory.intrinsic+json": {
              "type": "string"
            }
          },
          "metadata": {},
          "execution_count": 149
        }
      ]
    },
    {
      "cell_type": "code",
      "source": [
        "print(id(String1))"
      ],
      "metadata": {
        "colab": {
          "base_uri": "https://localhost:8080/"
        },
        "id": "31H7T65pPwlU",
        "outputId": "52f71663-64c0-4982-8f22-06209f87499b"
      },
      "execution_count": null,
      "outputs": [
        {
          "output_type": "stream",
          "name": "stdout",
          "text": [
            "140123199449888\n"
          ]
        }
      ]
    },
    {
      "cell_type": "code",
      "source": [
        "# Deleta a specific character from the string\n",
        "\n",
        "String1[:10]+' New York'"
      ],
      "metadata": {
        "colab": {
          "base_uri": "https://localhost:8080/",
          "height": 35
        },
        "id": "T3mVPYJsP-rV",
        "outputId": "7971d2e7-c439-4aa0-ca50-e3b71a6e8fcc"
      },
      "execution_count": null,
      "outputs": [
        {
          "output_type": "execute_result",
          "data": {
            "text/plain": [
              "'Welcome to New York'"
            ],
            "application/vnd.google.colaboratory.intrinsic+json": {
              "type": "string"
            }
          },
          "metadata": {},
          "execution_count": 151
        }
      ]
    },
    {
      "cell_type": "code",
      "source": [
        "del String1"
      ],
      "metadata": {
        "id": "f-45nwriQPXy"
      },
      "execution_count": null,
      "outputs": []
    },
    {
      "cell_type": "code",
      "source": [
        "id(String1)"
      ],
      "metadata": {
        "colab": {
          "base_uri": "https://localhost:8080/"
        },
        "id": "6gDxmrnbQaTO",
        "outputId": "14fec74b-add0-4637-be02-76b1c36074f9"
      },
      "execution_count": null,
      "outputs": [
        {
          "output_type": "execute_result",
          "data": {
            "text/plain": [
              "140123199265168"
            ]
          },
          "metadata": {},
          "execution_count": 157
        }
      ]
    },
    {
      "cell_type": "code",
      "source": [
        "# Escape Sequencing of String\n",
        "\n",
        "String1 = 'Welcome to St\\'Petersburg'\n",
        "print(String1)\n",
        "String2 = \"Python\\n is King\"\n",
        "print(String2)"
      ],
      "metadata": {
        "colab": {
          "base_uri": "https://localhost:8080/"
        },
        "id": "y628iOjUQbIM",
        "outputId": "e8bbc4c2-cef5-452d-bc58-3bfbf0703677"
      },
      "execution_count": null,
      "outputs": [
        {
          "output_type": "stream",
          "name": "stdout",
          "text": [
            "Welcome to St'Petersburg\n",
            "Python\n",
            " is King\n"
          ]
        }
      ]
    },
    {
      "cell_type": "code",
      "source": [
        "# Printing raw string\n",
        "\n",
        "# Escape Sequencing of String\n",
        "\n",
        "String1 = r'Welcome to St\\'Petersburg'\n",
        "print(String1)\n",
        "String2 = r\"Python\\n is King\"\n",
        "print(String2)"
      ],
      "metadata": {
        "colab": {
          "base_uri": "https://localhost:8080/"
        },
        "id": "C903tzqWRKRb",
        "outputId": "8d1e60bc-473a-4c65-c0f8-27799b0f1acf"
      },
      "execution_count": null,
      "outputs": [
        {
          "output_type": "stream",
          "name": "stdout",
          "text": [
            "Welcome to St\\'Petersburg\n",
            "Python\\n is King\n"
          ]
        }
      ]
    },
    {
      "cell_type": "code",
      "source": [
        "# String formatting \n",
        "\n",
        "# Default Order \n",
        "String1 = \"{} {} {}\".format('Geeks', 'For', 'Life')\n",
        "print(String1)"
      ],
      "metadata": {
        "id": "fkRsikrQQpXq"
      },
      "execution_count": null,
      "outputs": []
    },
    {
      "cell_type": "code",
      "source": [
        "# String formatting \n",
        "\n",
        "# Positional Formatting \n",
        "String1 = \"{0} {2} {1}\".format('Geeks', 'For', 'Life')\n",
        "print(String1)"
      ],
      "metadata": {
        "colab": {
          "base_uri": "https://localhost:8080/"
        },
        "id": "KaorYt7-R0ke",
        "outputId": "16147884-2f92-4b7b-a626-92fcd72cc253"
      },
      "execution_count": null,
      "outputs": [
        {
          "output_type": "stream",
          "name": "stdout",
          "text": [
            "Geeks Life For\n"
          ]
        }
      ]
    },
    {
      "cell_type": "code",
      "source": [
        "# String formatting \n",
        "\n",
        "# Keyword Formatting\n",
        "String1 = \"{a} {b} {c}\".format(a='Geeks', b='For', c='Life')\n",
        "print(String1)"
      ],
      "metadata": {
        "colab": {
          "base_uri": "https://localhost:8080/"
        },
        "id": "7rPJ0mfFR5D8",
        "outputId": "5b1ae5f0-b271-4d6c-dbae-4f0a62cc272c"
      },
      "execution_count": null,
      "outputs": [
        {
          "output_type": "stream",
          "name": "stdout",
          "text": [
            "Geeks For Life\n"
          ]
        }
      ]
    },
    {
      "cell_type": "code",
      "source": [
        "String1 = \"{} {} {}\".format('Geeks', 'For', 'Life')\n",
        "print(f\"{String1}\")"
      ],
      "metadata": {
        "colab": {
          "base_uri": "https://localhost:8080/"
        },
        "id": "NqnX7eZcRhmd",
        "outputId": "404cc479-ec2b-467a-e14f-93a12f18a330"
      },
      "execution_count": null,
      "outputs": [
        {
          "output_type": "stream",
          "name": "stdout",
          "text": [
            "Geeks For Life\n"
          ]
        }
      ]
    },
    {
      "cell_type": "code",
      "source": [
        "# Formatting of Integers\n",
        "String1 = \"{0:b}\".format(16)\n",
        "print(\"\\nBinary representation of 16 is \")\n",
        "print(String1)\n",
        "  \n",
        "# Formatting of Floats\n",
        "String1 = \"{0:e}\".format(165.6458)\n",
        "print(\"\\nExponent representation of 165.6458 is \")\n",
        "print(String1)\n",
        "  \n",
        "# Rounding off Integers\n",
        "String1 = \"{0:.2f}\".format(1/6)\n",
        "print(\"\\none-sixth is : \")\n",
        "print(String1)"
      ],
      "metadata": {
        "colab": {
          "base_uri": "https://localhost:8080/"
        },
        "id": "Hd-A7BfSRtXY",
        "outputId": "8bf0b96f-933f-41fd-fdbf-968c1ec42d2c"
      },
      "execution_count": null,
      "outputs": [
        {
          "output_type": "stream",
          "name": "stdout",
          "text": [
            "\n",
            "Binary representation of 16 is \n",
            "10000\n",
            "\n",
            "Exponent representation of 165.6458 is \n",
            "1.656458e+02\n",
            "\n",
            "one-sixth is : \n",
            "0.17\n"
          ]
        }
      ]
    },
    {
      "cell_type": "code",
      "source": [
        "# Rounding off Integers\n",
        "String1 = \"{0:.2f} {1:.6f}\".format(1/6, 5/6)\n",
        "print(\"\\none-sixth is : \")\n",
        "print(String1)"
      ],
      "metadata": {
        "colab": {
          "base_uri": "https://localhost:8080/"
        },
        "id": "WT5vynGpSTVA",
        "outputId": "cf66746c-5342-42d0-dd0a-d98a5b683faf"
      },
      "execution_count": null,
      "outputs": [
        {
          "output_type": "stream",
          "name": "stdout",
          "text": [
            "\n",
            "one-sixth is : \n",
            "0.17 0.833333\n"
          ]
        }
      ]
    },
    {
      "cell_type": "code",
      "source": [
        "# Rounding off Floats and Integers\n",
        "String1 = \"{0:b} {1:e}\".format(16, 165.6458)\n",
        "print(\"\\none-sixth is : \")\n",
        "print(String1)"
      ],
      "metadata": {
        "colab": {
          "base_uri": "https://localhost:8080/"
        },
        "id": "J9O_9heGSi8O",
        "outputId": "5ed8f8d5-520f-49cd-bf93-0a8d9932a197"
      },
      "execution_count": null,
      "outputs": [
        {
          "output_type": "stream",
          "name": "stdout",
          "text": [
            "\n",
            "one-sixth is : \n",
            "10000 1.656458e+02\n"
          ]
        }
      ]
    },
    {
      "cell_type": "code",
      "source": [
        "\"{0:e}\".format(1872232.2323232322)"
      ],
      "metadata": {
        "colab": {
          "base_uri": "https://localhost:8080/",
          "height": 35
        },
        "id": "5PkHcrOjSz8D",
        "outputId": "dfa7083e-b3bc-48ab-eedf-fd84c2239248"
      },
      "execution_count": null,
      "outputs": [
        {
          "output_type": "execute_result",
          "data": {
            "text/plain": [
              "'1.872232e+06'"
            ],
            "application/vnd.google.colaboratory.intrinsic+json": {
              "type": "string"
            }
          },
          "metadata": {},
          "execution_count": 165
        }
      ]
    },
    {
      "cell_type": "code",
      "source": [
        "# String alignment\n",
        "String1 = \"|{:<15}|{:^15}|{:>15}|\".format('Geeks',\n",
        "                                          'for', \n",
        "                                          'Geeks')\n",
        "print(\"\\nLeft, center and right alignment with Formatting: \")\n",
        "print(String1)\n",
        "  \n",
        "# To demonstrate aligning of spaces\n",
        "String1 = \"\\n{0:^16} was founded in {1:<4}!\".format(\"GeeksforGeeks\",\n",
        "                                                    2009)\n",
        "print(String1)"
      ],
      "metadata": {
        "colab": {
          "base_uri": "https://localhost:8080/"
        },
        "id": "JP5dp2qoS6U0",
        "outputId": "4bc9328f-e43f-4211-fb58-2562cefc340e"
      },
      "execution_count": null,
      "outputs": [
        {
          "output_type": "stream",
          "name": "stdout",
          "text": [
            "\n",
            "Left, center and right alignment with Formatting: \n",
            "|Geeks          |      for      |          Geeks|\n",
            "\n",
            " GeeksforGeeks   was founded in 2009!\n"
          ]
        }
      ]
    },
    {
      "cell_type": "code",
      "source": [
        "\"|{:<10}|{:^10}|{:>10}|\".format(\"America\", \"Russia\", \"China\")"
      ],
      "metadata": {
        "colab": {
          "base_uri": "https://localhost:8080/",
          "height": 35
        },
        "id": "ZuphfduPTSaa",
        "outputId": "8acaf0fc-3803-4ba8-de58-81abbdbd387f"
      },
      "execution_count": null,
      "outputs": [
        {
          "output_type": "execute_result",
          "data": {
            "text/plain": [
              "'|America   |  Russia  |     China|'"
            ],
            "application/vnd.google.colaboratory.intrinsic+json": {
              "type": "string"
            }
          },
          "metadata": {},
          "execution_count": 167
        }
      ]
    },
    {
      "cell_type": "code",
      "source": [
        "float1 = 12.42312312\n",
        "print(\"{0:4.2f}\".format(float1))"
      ],
      "metadata": {
        "colab": {
          "base_uri": "https://localhost:8080/"
        },
        "id": "o1-aX_TthCdK",
        "outputId": "154cae04-4c7c-484c-ea3f-c923d50ee4ff"
      },
      "execution_count": null,
      "outputs": [
        {
          "output_type": "stream",
          "name": "stdout",
          "text": [
            "12.42\n"
          ]
        }
      ]
    },
    {
      "cell_type": "code",
      "source": [
        "print(\"The value of the number is %4.2f\" %float1)"
      ],
      "metadata": {
        "colab": {
          "base_uri": "https://localhost:8080/"
        },
        "id": "mchbgfelhSAJ",
        "outputId": "632bfc0e-e31b-4e78-a93d-97394f83bbe2"
      },
      "execution_count": null,
      "outputs": [
        {
          "output_type": "stream",
          "name": "stdout",
          "text": [
            "The value of the number is 12.42\n"
          ]
        }
      ]
    },
    {
      "cell_type": "markdown",
      "source": [
        "## **Lists**\n",
        "## **Dynamic size Arrays**"
      ],
      "metadata": {
        "id": "alEuUdNbJcKa"
      }
    },
    {
      "cell_type": "code",
      "source": [
        "create_list = []\n",
        "create_list1 = list()\n",
        "print(type(create_list), type(create_list1))"
      ],
      "metadata": {
        "id": "hUGOmqfyhqqr"
      },
      "execution_count": null,
      "outputs": []
    },
    {
      "cell_type": "markdown",
      "source": [
        "## List creation --  Time Complexity O(1), Space Complexity O(n)\n",
        "## List accessing elements -- Time Complexity O(1), Space Complexity O(1)\n",
        "## Duplicates allowed \n",
        "## Insertion and deletion allowed (Mutable)\n",
        "## Negative Indexing \n",
        "\n",
        "## Input string -- can be converted into a list using the constructor or using the string.split() method\n",
        "\n"
      ],
      "metadata": {
        "id": "s1mxeZH-KEgp"
      }
    },
    {
      "cell_type": "code",
      "source": [
        "strA = input(\"Enter the list of elements space separated: \")\n",
        "lstA = list(strA)\n",
        "print(lstA)\n",
        "lstB = strA.split()\n",
        "print(lstB)"
      ],
      "metadata": {
        "id": "ZQGEfLLiJpEq"
      },
      "execution_count": null,
      "outputs": []
    },
    {
      "cell_type": "code",
      "source": [
        "strA = 'HELLO THIS IS LONDON'\n",
        "lstA = list(strA)\n",
        "print(lstA)\n",
        "lstB = strA.split()\n",
        "print(lstB)"
      ],
      "metadata": {
        "id": "wsDoCeLPK2Gs"
      },
      "execution_count": null,
      "outputs": []
    },
    {
      "cell_type": "code",
      "source": [
        "map(int, input(\"Enter the integer elements\").strip().split())"
      ],
      "metadata": {
        "id": "L3cNPhWSLkd4"
      },
      "execution_count": null,
      "outputs": []
    },
    {
      "cell_type": "code",
      "source": [
        "map(int, input(\"Enter the integer elements\").strip().split())"
      ],
      "metadata": {
        "id": "TVT2Y2pPMF1J"
      },
      "execution_count": null,
      "outputs": []
    },
    {
      "cell_type": "code",
      "source": [
        "list(map(int, input(\"Enter the integer elements\").strip().split()))"
      ],
      "metadata": {
        "id": "YI2F6ue8MS9g"
      },
      "execution_count": null,
      "outputs": []
    },
    {
      "cell_type": "code",
      "source": [
        "lstA = list('hello'.strip())\n",
        "lstA.append(20)\n",
        "lstA"
      ],
      "metadata": {
        "id": "pbjYc7pFMXjQ"
      },
      "execution_count": null,
      "outputs": []
    },
    {
      "cell_type": "code",
      "source": [
        "lstA.insert(2, \"two\")"
      ],
      "metadata": {
        "id": "Q7Zs5VGIMdfE"
      },
      "execution_count": null,
      "outputs": []
    },
    {
      "cell_type": "code",
      "source": [
        "lstA"
      ],
      "metadata": {
        "id": "eHac3uECM5ew"
      },
      "execution_count": null,
      "outputs": []
    },
    {
      "cell_type": "code",
      "source": [
        "lstA.remove('two')"
      ],
      "metadata": {
        "id": "-JB-h9xTM6CX"
      },
      "execution_count": null,
      "outputs": []
    },
    {
      "cell_type": "code",
      "source": [
        "lstA"
      ],
      "metadata": {
        "id": "8zY38NN8M9qZ"
      },
      "execution_count": null,
      "outputs": []
    },
    {
      "cell_type": "code",
      "source": [
        "del lstA[0]\n",
        "lstA"
      ],
      "metadata": {
        "id": "qoWffCenNAje"
      },
      "execution_count": null,
      "outputs": []
    },
    {
      "cell_type": "code",
      "source": [
        "lstA.pop()"
      ],
      "metadata": {
        "id": "_FtmHRsXNDlu"
      },
      "execution_count": null,
      "outputs": []
    },
    {
      "cell_type": "code",
      "source": [
        "lstA"
      ],
      "metadata": {
        "id": "zsWUHDk_NHHd"
      },
      "execution_count": null,
      "outputs": []
    },
    {
      "cell_type": "code",
      "source": [
        "lstA.pop(2)\n",
        "lstA"
      ],
      "metadata": {
        "id": "3lOQzWUvNH0F"
      },
      "execution_count": null,
      "outputs": []
    },
    {
      "cell_type": "code",
      "source": [
        "lstA = [1,2,3,4]\n",
        "lstB = [5,6,7,8]\n",
        "lstA.extend(lstB)"
      ],
      "metadata": {
        "id": "j_r4278JNKK0"
      },
      "execution_count": null,
      "outputs": []
    },
    {
      "cell_type": "code",
      "source": [
        "lstA"
      ],
      "metadata": {
        "id": "DlOejWbNNSCq"
      },
      "execution_count": null,
      "outputs": []
    },
    {
      "cell_type": "code",
      "source": [
        "lstB"
      ],
      "metadata": {
        "id": "-qtNaJZWNTRR"
      },
      "execution_count": null,
      "outputs": []
    },
    {
      "cell_type": "markdown",
      "source": [
        "## **LIST.reverse() method**"
      ],
      "metadata": {
        "id": "1FBDbyXbQmAJ"
      }
    },
    {
      "cell_type": "code",
      "source": [
        "lstA"
      ],
      "metadata": {
        "id": "0EZ4JXW2NURR"
      },
      "execution_count": null,
      "outputs": []
    },
    {
      "cell_type": "code",
      "source": [
        "lstA.reverse()"
      ],
      "metadata": {
        "id": "AkqSJGsOQpjt"
      },
      "execution_count": null,
      "outputs": []
    },
    {
      "cell_type": "code",
      "source": [
        "lstA"
      ],
      "metadata": {
        "id": "OVA3m0FEQqxC"
      },
      "execution_count": null,
      "outputs": []
    },
    {
      "cell_type": "code",
      "source": [
        "lstA[::-1]"
      ],
      "metadata": {
        "id": "BTq-trqwQrRe"
      },
      "execution_count": null,
      "outputs": []
    },
    {
      "cell_type": "code",
      "source": [
        "lstA = [10,20,10,30,40]\n",
        "lstA.remove(10)"
      ],
      "metadata": {
        "id": "VragGreBQtHN"
      },
      "execution_count": null,
      "outputs": []
    },
    {
      "cell_type": "code",
      "source": [
        "lstA"
      ],
      "metadata": {
        "id": "HXivLt4oQzl0"
      },
      "execution_count": null,
      "outputs": []
    },
    {
      "cell_type": "code",
      "source": [
        "lstA = [10,20,10,30,40]\n",
        "del lstA[2]\n",
        "lstA"
      ],
      "metadata": {
        "id": "rpmX1pSjQ0B8"
      },
      "execution_count": null,
      "outputs": []
    },
    {
      "cell_type": "code",
      "source": [
        "lstA = [1,2,3,4,5,6,7,8,9,10]\n",
        "lstA[:-4]"
      ],
      "metadata": {
        "id": "Go2RJpAuQ6n2"
      },
      "execution_count": null,
      "outputs": []
    },
    {
      "cell_type": "code",
      "source": [
        "lstA[-5:]"
      ],
      "metadata": {
        "id": "BopDNPwHRdLo"
      },
      "execution_count": null,
      "outputs": []
    },
    {
      "cell_type": "code",
      "source": [
        "lstA[-5:-1]"
      ],
      "metadata": {
        "id": "npgAbLP0RjId"
      },
      "execution_count": null,
      "outputs": []
    },
    {
      "cell_type": "markdown",
      "source": [
        "## **List Comprehensions are used to create new lists from other iterables like tuples, strings, arrays, lists, etc.**"
      ],
      "metadata": {
        "id": "8evbCv8tRsD3"
      }
    },
    {
      "cell_type": "code",
      "source": [
        "lstA = [1,2,3,4,5,6,7,8,9,10]\n",
        "\n",
        "listA_squared = [x**2 for x in lstA]\n",
        "listA_squared"
      ],
      "metadata": {
        "id": "9t7WQWagRmgD"
      },
      "execution_count": null,
      "outputs": []
    },
    {
      "cell_type": "code",
      "source": [
        "[x for x in range(40,1,-3) if x%2==1]"
      ],
      "metadata": {
        "id": "egYThgGNR8-u"
      },
      "execution_count": null,
      "outputs": []
    },
    {
      "cell_type": "markdown",
      "source": [
        "## **ord() function** returns the integer representing the Unicode point of the Unicode character given"
      ],
      "metadata": {
        "id": "7tw691cwSajq"
      }
    },
    {
      "cell_type": "code",
      "source": [
        "ord('a')"
      ],
      "metadata": {
        "id": "NcVxIe_OSCsv"
      },
      "execution_count": null,
      "outputs": []
    },
    {
      "cell_type": "code",
      "source": [
        "ord('A')"
      ],
      "metadata": {
        "id": "UMZo3zzxSj4n"
      },
      "execution_count": null,
      "outputs": []
    },
    {
      "cell_type": "markdown",
      "source": [
        "## **Remove all characters from a given string other than the alphabets**"
      ],
      "metadata": {
        "id": "JDcCBiURStzU"
      }
    },
    {
      "cell_type": "code",
      "source": [
        "def removeAllChars(input):\n",
        "  alphabets = [ch for ch in input if ord(ch) in range(ord('A'), ord('z')+1)]\n",
        "  return \"\".join(alphabets)\n",
        "removeAllChars(input())"
      ],
      "metadata": {
        "id": "ZzGQxKWxSkmr"
      },
      "execution_count": null,
      "outputs": []
    },
    {
      "cell_type": "markdown",
      "source": [
        "## **Tuples are immutable**"
      ],
      "metadata": {
        "id": "QT270DGcWsWA"
      }
    },
    {
      "cell_type": "code",
      "source": [
        "tuplA = tuple()\n",
        "print(tuplA, type(tuplA))"
      ],
      "metadata": {
        "id": "67emtEWGTbxC"
      },
      "execution_count": null,
      "outputs": []
    },
    {
      "cell_type": "code",
      "source": [
        "lstA = [1,2,3,34,23,23,23,56]\n",
        "tuple(lstA)"
      ],
      "metadata": {
        "id": "1YZg1tIhW3CI"
      },
      "execution_count": null,
      "outputs": []
    },
    {
      "cell_type": "code",
      "source": [
        "tuple('Gold')"
      ],
      "metadata": {
        "id": "GK7tJ3i3W-VF"
      },
      "execution_count": null,
      "outputs": []
    },
    {
      "cell_type": "code",
      "source": [
        "tuple('London is great city')"
      ],
      "metadata": {
        "id": "yaaGzKgnXDpV"
      },
      "execution_count": null,
      "outputs": []
    },
    {
      "cell_type": "code",
      "source": [
        "t1 = (1,2,3)\n",
        "t2 = ('a', 'b')\n",
        "t3 =(t1, t2)\n",
        "t3"
      ],
      "metadata": {
        "id": "O_kZ1SMpXGuA"
      },
      "execution_count": null,
      "outputs": []
    },
    {
      "cell_type": "code",
      "source": [
        "t1 = ('london',)*3\n",
        "t1"
      ],
      "metadata": {
        "id": "H_59669ZdT-S"
      },
      "execution_count": null,
      "outputs": []
    },
    {
      "cell_type": "markdown",
      "source": [
        "## **Tuple unpacking**"
      ],
      "metadata": {
        "id": "6WvpvIJwdnQD"
      }
    },
    {
      "cell_type": "code",
      "source": [
        "t1 = (20,30,50)\n",
        "a,b,c = t1\n",
        "print(a,b,c)"
      ],
      "metadata": {
        "id": "hcwgWL9VdYxT"
      },
      "execution_count": null,
      "outputs": []
    },
    {
      "cell_type": "code",
      "source": [
        "t1, t2"
      ],
      "metadata": {
        "id": "HYpdwTW2dtlj"
      },
      "execution_count": null,
      "outputs": []
    },
    {
      "cell_type": "code",
      "source": [
        "## concatenation\n",
        "\n",
        "t1 + t2"
      ],
      "metadata": {
        "id": "xI9Gg2BodyVk"
      },
      "execution_count": null,
      "outputs": []
    },
    {
      "cell_type": "code",
      "source": [
        "t1[2:]"
      ],
      "metadata": {
        "id": "-02zTR93dzZs"
      },
      "execution_count": null,
      "outputs": []
    },
    {
      "cell_type": "code",
      "source": [
        "t = tuple('welcome to london')\n",
        "t[1:4]"
      ],
      "metadata": {
        "id": "XUSW1mLdd6Oq"
      },
      "execution_count": null,
      "outputs": []
    },
    {
      "cell_type": "code",
      "source": [
        "t"
      ],
      "metadata": {
        "id": "RifXpvLqeCGW"
      },
      "execution_count": null,
      "outputs": []
    },
    {
      "cell_type": "code",
      "source": [
        "del t\n",
        "t"
      ],
      "metadata": {
        "id": "XSVP2OaheJi6"
      },
      "execution_count": null,
      "outputs": []
    },
    {
      "cell_type": "markdown",
      "source": [
        "## **tupleA.index() -- returns the index of the given value where it's available**\n",
        "## **count() -- returns the frequency of occurrence of a specified value**"
      ],
      "metadata": {
        "id": "Eelt4NRpeOQ6"
      }
    },
    {
      "cell_type": "code",
      "source": [
        "t = (100,20,30,10,30,303,3012,20,10,21,202, 10, 10)\n",
        "t.count(10)"
      ],
      "metadata": {
        "id": "xcuITsXEeLCD"
      },
      "execution_count": null,
      "outputs": []
    },
    {
      "cell_type": "code",
      "source": [
        "t.index(10)"
      ],
      "metadata": {
        "id": "M9IBN8SEeeI4"
      },
      "execution_count": null,
      "outputs": []
    },
    {
      "cell_type": "code",
      "source": [
        "for i, ele in enumerate(t):\n",
        "  print(i,\"->\", ele)"
      ],
      "metadata": {
        "id": "hL5p8Lr9egyv"
      },
      "execution_count": null,
      "outputs": []
    },
    {
      "cell_type": "code",
      "source": [
        "sorted(t)"
      ],
      "metadata": {
        "id": "gkSUCxlMers_"
      },
      "execution_count": null,
      "outputs": []
    },
    {
      "cell_type": "code",
      "source": [
        "tuple(range(10,20,2))"
      ],
      "metadata": {
        "id": "OY3jRndgevrv"
      },
      "execution_count": null,
      "outputs": []
    },
    {
      "cell_type": "code",
      "source": [
        "max(t), min(t), sum(t)"
      ],
      "metadata": {
        "id": "uYouXmSde0R1"
      },
      "execution_count": null,
      "outputs": []
    },
    {
      "cell_type": "markdown",
      "source": [
        "## **Tuples are typically used to store Heterogeneous Data, while Lists are used for storing Homogeneous Data**"
      ],
      "metadata": {
        "id": "mbmwXAMaldZ8"
      }
    },
    {
      "cell_type": "code",
      "source": [
        ""
      ],
      "metadata": {
        "id": "8z1rwvkek8Sm"
      },
      "execution_count": null,
      "outputs": []
    },
    {
      "cell_type": "markdown",
      "source": [
        "![image.png](data:image/png;base64,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)"
      ],
      "metadata": {
        "id": "CZy_3RA5lOdp"
      }
    },
    {
      "cell_type": "markdown",
      "source": [
        "## **Given a binary matrix, print all unique rows of the given matrix. Order of row printing doesn’t matter.**"
      ],
      "metadata": {
        "id": "U1_cursFrKxc"
      }
    },
    {
      "cell_type": "code",
      "source": [
        "mat = [[0, 1, 0, 0, 1], [1, 0, 1, 1, 0], [0, 1, 0, 0, 1], [1, 1, 1, 0, 0]]\n",
        "mat2 = []\n",
        "[mat2.append(x) for x in mat if x not in mat2]\n",
        "mat2"
      ],
      "metadata": {
        "colab": {
          "base_uri": "https://localhost:8080/"
        },
        "id": "aReIltWylPrb",
        "outputId": "875f14e8-ba9e-4d72-f870-a8b4f2f0aa62"
      },
      "execution_count": null,
      "outputs": [
        {
          "output_type": "execute_result",
          "data": {
            "text/plain": [
              "[[0, 1, 0, 0, 1], [1, 0, 1, 1, 0], [1, 1, 1, 0, 0]]"
            ]
          },
          "metadata": {},
          "execution_count": 170
        }
      ]
    },
    {
      "cell_type": "code",
      "source": [
        "set([1,[2],4,5,[2]])"
      ],
      "metadata": {
        "colab": {
          "base_uri": "https://localhost:8080/",
          "height": 166
        },
        "id": "XvjjAWuerUGt",
        "outputId": "500e3037-44fb-4815-a7e9-4e21bc542611"
      },
      "execution_count": null,
      "outputs": [
        {
          "output_type": "error",
          "ename": "TypeError",
          "evalue": "ignored",
          "traceback": [
            "\u001b[0;31m---------------------------------------------------------------------------\u001b[0m",
            "\u001b[0;31mTypeError\u001b[0m                                 Traceback (most recent call last)",
            "\u001b[0;32m<ipython-input-171-6b6fb18fcc92>\u001b[0m in \u001b[0;36m<module>\u001b[0;34m()\u001b[0m\n\u001b[0;32m----> 1\u001b[0;31m \u001b[0mset\u001b[0m\u001b[0;34m(\u001b[0m\u001b[0;34m[\u001b[0m\u001b[0;36m1\u001b[0m\u001b[0;34m,\u001b[0m\u001b[0;34m[\u001b[0m\u001b[0;36m2\u001b[0m\u001b[0;34m]\u001b[0m\u001b[0;34m,\u001b[0m\u001b[0;36m4\u001b[0m\u001b[0;34m,\u001b[0m\u001b[0;36m5\u001b[0m\u001b[0;34m,\u001b[0m\u001b[0;34m[\u001b[0m\u001b[0;36m2\u001b[0m\u001b[0;34m]\u001b[0m\u001b[0;34m]\u001b[0m\u001b[0;34m)\u001b[0m\u001b[0;34m\u001b[0m\u001b[0;34m\u001b[0m\u001b[0m\n\u001b[0m",
            "\u001b[0;31mTypeError\u001b[0m: unhashable type: 'list'"
          ]
        }
      ]
    },
    {
      "cell_type": "code",
      "source": [
        "def uniqueRows(input):\n",
        "  for each in list(set(map(tuple,input))):\n",
        "    print(each)\n",
        "\n",
        "# Driver program\n",
        "if __name__ == \"__main__\":\n",
        "    input = [[0, 1, 0, 0, 1],\n",
        "            [1, 0, 1, 1, 0],\n",
        "            [0, 1, 0, 0, 1],\n",
        "            [1, 1, 1, 0, 0]]\n",
        "    uniqueRows(input)"
      ],
      "metadata": {
        "colab": {
          "base_uri": "https://localhost:8080/"
        },
        "id": "Jc0XPvJ6r-nw",
        "outputId": "baaf9db0-4ec5-47a2-ed36-c2e9ab9b4dea"
      },
      "execution_count": null,
      "outputs": [
        {
          "output_type": "stream",
          "name": "stdout",
          "text": [
            "(1, 1, 1, 0, 0)\n",
            "(0, 1, 0, 0, 1)\n",
            "(1, 0, 1, 1, 0)\n"
          ]
        }
      ]
    },
    {
      "cell_type": "code",
      "source": [
        "set([1,2,3,4,3,4,23])"
      ],
      "metadata": {
        "colab": {
          "base_uri": "https://localhost:8080/"
        },
        "id": "a-rLVEXUsn39",
        "outputId": "d81485a6-02cd-451b-bbfe-f5f68670ae28"
      },
      "execution_count": null,
      "outputs": [
        {
          "output_type": "execute_result",
          "data": {
            "text/plain": [
              "{1, 2, 3, 4, 23}"
            ]
          },
          "metadata": {},
          "execution_count": 173
        }
      ]
    },
    {
      "cell_type": "code",
      "source": [
        "lstAA = [[1,2,3,4,3],[4,23], [4],[1,2,3,4,3], [4,23], [4], [23], [23]]"
      ],
      "metadata": {
        "id": "jowhGGq5uqIH"
      },
      "execution_count": null,
      "outputs": []
    },
    {
      "cell_type": "code",
      "source": [
        "list(map(tuple,lstAA))"
      ],
      "metadata": {
        "colab": {
          "base_uri": "https://localhost:8080/"
        },
        "id": "vUSIkt6VuwAZ",
        "outputId": "15b82326-51ec-488a-dd35-59d3ce5b4b8a"
      },
      "execution_count": null,
      "outputs": [
        {
          "output_type": "execute_result",
          "data": {
            "text/plain": [
              "[(1, 2, 3, 4, 3), (4, 23), (4,), (1, 2, 3, 4, 3), (4, 23), (4,), (23,), (23,)]"
            ]
          },
          "metadata": {},
          "execution_count": 175
        }
      ]
    },
    {
      "cell_type": "code",
      "source": [
        "set(map(tuple,lstAA))"
      ],
      "metadata": {
        "colab": {
          "base_uri": "https://localhost:8080/"
        },
        "id": "89OVIYPCxsL4",
        "outputId": "8cc43827-7f2b-47e4-f0d1-38011a25a23f"
      },
      "execution_count": null,
      "outputs": [
        {
          "output_type": "execute_result",
          "data": {
            "text/plain": [
              "{(1, 2, 3, 4, 3), (4,), (4, 23), (23,)}"
            ]
          },
          "metadata": {},
          "execution_count": 176
        }
      ]
    },
    {
      "cell_type": "markdown",
      "source": [
        "**Since list is an *unhashable type* for set because it is mutable that’s why first we convert each row (list) into tuple then we put all tuple in set.**"
      ],
      "metadata": {
        "id": "P9IpTx20yfVE"
      }
    },
    {
      "cell_type": "markdown",
      "source": [
        "## **Convert a list of characters into a string**"
      ],
      "metadata": {
        "id": "4wrAp3zVy7WC"
      }
    },
    {
      "cell_type": "code",
      "source": [
        "def convert_to_string(lstA):\n",
        "  return \"\".join(lstA)\n",
        "\n",
        "input_list = ['w','e', 'l','c','o','m','e']\n",
        "convert_to_string(input_list)"
      ],
      "metadata": {
        "colab": {
          "base_uri": "https://localhost:8080/",
          "height": 35
        },
        "id": "rX9EIHjryGik",
        "outputId": "b5842a95-19c1-458e-c636-ccaad8b87782"
      },
      "execution_count": null,
      "outputs": [
        {
          "output_type": "execute_result",
          "data": {
            "text/plain": [
              "'welcome'"
            ],
            "application/vnd.google.colaboratory.intrinsic+json": {
              "type": "string"
            }
          },
          "metadata": {},
          "execution_count": 181
        }
      ]
    },
    {
      "cell_type": "code",
      "source": [
        "s = ''\n",
        "for each in input_list:\n",
        "  s+=each\n",
        "print(s)"
      ],
      "metadata": {
        "colab": {
          "base_uri": "https://localhost:8080/"
        },
        "id": "OeKTDW12zbOw",
        "outputId": "7be2cb3f-1bc6-45b4-b407-d86c3807a3cf"
      },
      "execution_count": null,
      "outputs": [
        {
          "output_type": "stream",
          "name": "stdout",
          "text": [
            "welcome\n"
          ]
        }
      ]
    },
    {
      "cell_type": "code",
      "source": [
        "## List Comprehension\n",
        "\n",
        "sentence = 'This is the best city in the world'\n",
        "\n",
        "[(word.upper(), word.lower(), len(word)) for word in sentence.split()]"
      ],
      "metadata": {
        "id": "NoEtBeqMz3I5",
        "colab": {
          "base_uri": "https://localhost:8080/"
        },
        "outputId": "db485cba-2858-4457-b933-34fa9a11f55c"
      },
      "execution_count": 3,
      "outputs": [
        {
          "output_type": "execute_result",
          "data": {
            "text/plain": [
              "[('THIS', 'this', 4),\n",
              " ('IS', 'is', 2),\n",
              " ('THE', 'the', 3),\n",
              " ('BEST', 'best', 4),\n",
              " ('CITY', 'city', 4),\n",
              " ('IN', 'in', 2),\n",
              " ('THE', 'the', 3),\n",
              " ('WORLD', 'world', 5)]"
            ]
          },
          "metadata": {},
          "execution_count": 3
        }
      ]
    },
    {
      "cell_type": "code",
      "source": [
        "listA = [20,30,303,120,23,233,-9,10]\n",
        "listA.sort()\n",
        "listA"
      ],
      "metadata": {
        "colab": {
          "base_uri": "https://localhost:8080/"
        },
        "id": "DlAS7Ty6K8yy",
        "outputId": "058b6516-5e8a-4e42-9ef6-32c98d374083"
      },
      "execution_count": 4,
      "outputs": [
        {
          "output_type": "execute_result",
          "data": {
            "text/plain": [
              "[-9, 10, 20, 23, 30, 120, 233, 303]"
            ]
          },
          "metadata": {},
          "execution_count": 4
        }
      ]
    },
    {
      "cell_type": "code",
      "source": [
        "listA.sort(reverse=True)\n",
        "listA"
      ],
      "metadata": {
        "colab": {
          "base_uri": "https://localhost:8080/"
        },
        "id": "Rao8EOAhLQ1y",
        "outputId": "1c3ddfe3-285b-415c-be1c-2c67e6ebee25"
      },
      "execution_count": 6,
      "outputs": [
        {
          "output_type": "execute_result",
          "data": {
            "text/plain": [
              "[303, 233, 120, 30, 23, 20, 10, -9]"
            ]
          },
          "metadata": {},
          "execution_count": 6
        }
      ]
    },
    {
      "cell_type": "code",
      "source": [
        "sorted(listA)"
      ],
      "metadata": {
        "colab": {
          "base_uri": "https://localhost:8080/"
        },
        "id": "ggry6hK7LTgl",
        "outputId": "f0ad7719-051a-476f-d876-7b99233c5360"
      },
      "execution_count": 7,
      "outputs": [
        {
          "output_type": "execute_result",
          "data": {
            "text/plain": [
              "[-9, 10, 20, 23, 30, 120, 233, 303]"
            ]
          },
          "metadata": {},
          "execution_count": 7
        }
      ]
    },
    {
      "cell_type": "code",
      "source": [
        "sorted(listA, reverse=True)"
      ],
      "metadata": {
        "colab": {
          "base_uri": "https://localhost:8080/"
        },
        "id": "qTkpVvVUQQpe",
        "outputId": "9cdcf56f-cdcc-4b69-a286-389eba3230e2"
      },
      "execution_count": 9,
      "outputs": [
        {
          "output_type": "execute_result",
          "data": {
            "text/plain": [
              "[303, 233, 120, 30, 23, 20, 10, -9]"
            ]
          },
          "metadata": {},
          "execution_count": 9
        }
      ]
    },
    {
      "cell_type": "code",
      "source": [
        "t=tuple(range(10,20,2))\n",
        "t"
      ],
      "metadata": {
        "colab": {
          "base_uri": "https://localhost:8080/"
        },
        "id": "KuBnWs0KQUSE",
        "outputId": "1001485b-82e7-4d03-f9b7-f49111d077bc"
      },
      "execution_count": 12,
      "outputs": [
        {
          "output_type": "execute_result",
          "data": {
            "text/plain": [
              "(10, 12, 14, 16, 18)"
            ]
          },
          "metadata": {},
          "execution_count": 12
        }
      ]
    },
    {
      "cell_type": "markdown",
      "source": [
        "**Method#3: Using reduce() function**\n",
        "\n",
        "**Reduce function is used to convert the iterables to reduce in a single cumulative value. **"
      ],
      "metadata": {
        "id": "pxLuQQhiZmWE"
      }
    },
    {
      "cell_type": "code",
      "source": [
        "import functools\n",
        "\n",
        "def convert(s):\n",
        "  str1 = functools.reduce(lambda x, y: x+y, s)\n",
        "  return str1\n",
        "\n",
        "s = ['H','e', 'l', 'l', 'o']\n",
        "convert(s)"
      ],
      "metadata": {
        "colab": {
          "base_uri": "https://localhost:8080/",
          "height": 35
        },
        "id": "mQCTRzHdQeC1",
        "outputId": "7b84f5df-9506-4fc9-d2b7-bdd7b3014e50"
      },
      "execution_count": 15,
      "outputs": [
        {
          "output_type": "execute_result",
          "data": {
            "text/plain": [
              "'Hello'"
            ],
            "application/vnd.google.colaboratory.intrinsic+json": {
              "type": "string"
            }
          },
          "metadata": {},
          "execution_count": 15
        }
      ]
    },
    {
      "cell_type": "code",
      "source": [
        "f = lambda x, y: x+y\n",
        "f(2,3)"
      ],
      "metadata": {
        "colab": {
          "base_uri": "https://localhost:8080/"
        },
        "id": "kH9VLmBRY2yB",
        "outputId": "87b9034e-7e66-455f-d0ef-ce939b40ec11"
      },
      "execution_count": 27,
      "outputs": [
        {
          "output_type": "execute_result",
          "data": {
            "text/plain": [
              "5"
            ]
          },
          "metadata": {},
          "execution_count": 27
        }
      ]
    },
    {
      "cell_type": "markdown",
      "source": [
        "## **Reversing a tuple**"
      ],
      "metadata": {
        "id": "b4wFWvw7eCKb"
      }
    },
    {
      "cell_type": "code",
      "source": [
        "t = tuple(range(10,30,2))\n",
        "t"
      ],
      "metadata": {
        "colab": {
          "base_uri": "https://localhost:8080/"
        },
        "id": "1x-fbxCPZLvd",
        "outputId": "87135e28-9907-4a8c-9613-5c749b13a834"
      },
      "execution_count": 28,
      "outputs": [
        {
          "output_type": "execute_result",
          "data": {
            "text/plain": [
              "(10, 12, 14, 16, 18, 20, 22, 24, 26, 28)"
            ]
          },
          "metadata": {},
          "execution_count": 28
        }
      ]
    },
    {
      "cell_type": "code",
      "source": [
        "type(t), type(tuple(sorted(t, reverse=True)))"
      ],
      "metadata": {
        "colab": {
          "base_uri": "https://localhost:8080/"
        },
        "id": "Oe_jR1TgeHLu",
        "outputId": "75c3fc21-21b6-421d-e3ea-bdc14e9dcf06"
      },
      "execution_count": 34,
      "outputs": [
        {
          "output_type": "execute_result",
          "data": {
            "text/plain": [
              "(tuple, tuple)"
            ]
          },
          "metadata": {},
          "execution_count": 34
        }
      ]
    },
    {
      "cell_type": "code",
      "source": [
        "tuple(sorted(t, reverse=True))"
      ],
      "metadata": {
        "colab": {
          "base_uri": "https://localhost:8080/"
        },
        "id": "BWefNRiGeKvf",
        "outputId": "07079d0a-f2f7-4291-8085-f6e57895feec"
      },
      "execution_count": 35,
      "outputs": [
        {
          "output_type": "execute_result",
          "data": {
            "text/plain": [
              "(28, 26, 24, 22, 20, 18, 16, 14, 12, 10)"
            ]
          },
          "metadata": {},
          "execution_count": 35
        }
      ]
    },
    {
      "cell_type": "code",
      "source": [
        "t[::-1]"
      ],
      "metadata": {
        "colab": {
          "base_uri": "https://localhost:8080/"
        },
        "id": "gb_D4XXReX7v",
        "outputId": "b18726e1-0489-44cb-f55e-a3e06d2acdc7"
      },
      "execution_count": 36,
      "outputs": [
        {
          "output_type": "execute_result",
          "data": {
            "text/plain": [
              "(28, 26, 24, 22, 20, 18, 16, 14, 12, 10)"
            ]
          },
          "metadata": {},
          "execution_count": 36
        }
      ]
    },
    {
      "cell_type": "code",
      "source": [
        "lst_tup = [('id1','king',[10,20,30,40]), ('id2', 'queen', [1,2,3,4]), ('id3', 'jack', [4,5,6,7,8])]\n",
        "lst_tup"
      ],
      "metadata": {
        "colab": {
          "base_uri": "https://localhost:8080/"
        },
        "id": "aE2EcUEHeZaL",
        "outputId": "fa6def49-31cf-4413-85a1-aba7bfed70e5"
      },
      "execution_count": 37,
      "outputs": [
        {
          "output_type": "execute_result",
          "data": {
            "text/plain": [
              "[('id1', 'king', [10, 20, 30, 40]),\n",
              " ('id2', 'queen', [1, 2, 3, 4]),\n",
              " ('id3', 'jack', [4, 5, 6, 7, 8])]"
            ]
          },
          "metadata": {},
          "execution_count": 37
        }
      ]
    },
    {
      "cell_type": "code",
      "source": [
        "dict(lst_tup)"
      ],
      "metadata": {
        "colab": {
          "base_uri": "https://localhost:8080/",
          "height": 166
        },
        "id": "Y0mJDOg3e98y",
        "outputId": "7de158f7-83af-44c2-c04f-534c467985e2"
      },
      "execution_count": 38,
      "outputs": [
        {
          "output_type": "error",
          "ename": "ValueError",
          "evalue": "ignored",
          "traceback": [
            "\u001b[0;31m---------------------------------------------------------------------------\u001b[0m",
            "\u001b[0;31mValueError\u001b[0m                                Traceback (most recent call last)",
            "\u001b[0;32m<ipython-input-38-8851d95af7d6>\u001b[0m in \u001b[0;36m<module>\u001b[0;34m()\u001b[0m\n\u001b[0;32m----> 1\u001b[0;31m \u001b[0mdict\u001b[0m\u001b[0;34m(\u001b[0m\u001b[0mlst_tup\u001b[0m\u001b[0;34m)\u001b[0m\u001b[0;34m\u001b[0m\u001b[0;34m\u001b[0m\u001b[0m\n\u001b[0m",
            "\u001b[0;31mValueError\u001b[0m: dictionary update sequence element #0 has length 3; 2 is required"
          ]
        }
      ]
    },
    {
      "cell_type": "code",
      "source": [
        "dict_tup = {}"
      ],
      "metadata": {
        "id": "cr_905QNfBGL"
      },
      "execution_count": 39,
      "outputs": []
    },
    {
      "cell_type": "code",
      "source": [
        "dict_tup['id'] = [each[0] for each in lst_tup]\n",
        "dict_tup['name'] = [each[1] for each in lst_tup]\n",
        "dict_tup['values'] = [each[2] for each in lst_tup]\n",
        "dict_tup"
      ],
      "metadata": {
        "colab": {
          "base_uri": "https://localhost:8080/"
        },
        "id": "rlgd37IZfgJq",
        "outputId": "afb44a58-1f5c-449b-beeb-2aa2904f496b"
      },
      "execution_count": 40,
      "outputs": [
        {
          "output_type": "execute_result",
          "data": {
            "text/plain": [
              "{'id': ['id1', 'id2', 'id3'],\n",
              " 'name': ['king', 'queen', 'jack'],\n",
              " 'values': [[10, 20, 30, 40], [1, 2, 3, 4], [4, 5, 6, 7, 8]]}"
            ]
          },
          "metadata": {},
          "execution_count": 40
        }
      ]
    },
    {
      "cell_type": "code",
      "source": [
        "d = {}\n",
        "\n",
        "inp = [('A', 1), ('B', 2), ('C', 3)]\n",
        "for each in inp:\n",
        "  d[each[0]]=each[1]\n",
        "d"
      ],
      "metadata": {
        "colab": {
          "base_uri": "https://localhost:8080/"
        },
        "id": "n1ZJHLnqgIC9",
        "outputId": "1b856c8b-1dfa-46f0-e0da-f6b72ea956b8"
      },
      "execution_count": 4,
      "outputs": [
        {
          "output_type": "execute_result",
          "data": {
            "text/plain": [
              "{'A': 1, 'B': 2, 'C': 3}"
            ]
          },
          "metadata": {},
          "execution_count": 4
        }
      ]
    },
    {
      "cell_type": "markdown",
      "source": [
        "## **Sets**"
      ],
      "metadata": {
        "id": "vYC3hUapp_2o"
      }
    },
    {
      "cell_type": "code",
      "source": [
        "s = set()\n",
        "print(s, type(s))"
      ],
      "metadata": {
        "colab": {
          "base_uri": "https://localhost:8080/"
        },
        "id": "07aSSW1QggFj",
        "outputId": "3f9bb5a7-06b4-4d38-b3f6-f5347ef13c3f"
      },
      "execution_count": 5,
      "outputs": [
        {
          "output_type": "stream",
          "name": "stdout",
          "text": [
            "set() <class 'set'>\n"
          ]
        }
      ]
    },
    {
      "cell_type": "code",
      "source": [
        "s = {1,2,3,4,3}\n",
        "s"
      ],
      "metadata": {
        "colab": {
          "base_uri": "https://localhost:8080/"
        },
        "id": "8Lmmb7yzqDuy",
        "outputId": "1b80a0f0-4b1a-4b04-c73f-b5c50365c2df"
      },
      "execution_count": 6,
      "outputs": [
        {
          "output_type": "execute_result",
          "data": {
            "text/plain": [
              "{1, 2, 3, 4}"
            ]
          },
          "metadata": {},
          "execution_count": 6
        }
      ]
    },
    {
      "cell_type": "code",
      "source": [
        "s.add(4)"
      ],
      "metadata": {
        "id": "2yiD-WwMqPp_"
      },
      "execution_count": 7,
      "outputs": []
    },
    {
      "cell_type": "code",
      "source": [
        "s"
      ],
      "metadata": {
        "colab": {
          "base_uri": "https://localhost:8080/"
        },
        "id": "-rIEerlxqSXt",
        "outputId": "2d42141c-7260-4ccb-e872-fd46f5a3aa26"
      },
      "execution_count": 8,
      "outputs": [
        {
          "output_type": "execute_result",
          "data": {
            "text/plain": [
              "{1, 2, 3, 4}"
            ]
          },
          "metadata": {},
          "execution_count": 8
        }
      ]
    },
    {
      "cell_type": "code",
      "source": [
        "s.add(5)"
      ],
      "metadata": {
        "id": "cOrYkN8hqTNu"
      },
      "execution_count": 9,
      "outputs": []
    },
    {
      "cell_type": "code",
      "source": [
        "s"
      ],
      "metadata": {
        "colab": {
          "base_uri": "https://localhost:8080/"
        },
        "id": "2r0wp0NoqT4w",
        "outputId": "8c5887bb-7482-4ea8-f41e-6f9e525e3fc8"
      },
      "execution_count": 10,
      "outputs": [
        {
          "output_type": "execute_result",
          "data": {
            "text/plain": [
              "{1, 2, 3, 4, 5}"
            ]
          },
          "metadata": {},
          "execution_count": 10
        }
      ]
    },
    {
      "cell_type": "code",
      "source": [
        "s.add([3,4,4])"
      ],
      "metadata": {
        "colab": {
          "base_uri": "https://localhost:8080/",
          "height": 166
        },
        "id": "Sr3SXRSwqUOE",
        "outputId": "85a6df0a-66fe-413c-a390-3f1ac19707bd"
      },
      "execution_count": 11,
      "outputs": [
        {
          "output_type": "error",
          "ename": "TypeError",
          "evalue": "ignored",
          "traceback": [
            "\u001b[0;31m---------------------------------------------------------------------------\u001b[0m",
            "\u001b[0;31mTypeError\u001b[0m                                 Traceback (most recent call last)",
            "\u001b[0;32m<ipython-input-11-58cb7a13bd2c>\u001b[0m in \u001b[0;36m<module>\u001b[0;34m()\u001b[0m\n\u001b[0;32m----> 1\u001b[0;31m \u001b[0ms\u001b[0m\u001b[0;34m.\u001b[0m\u001b[0madd\u001b[0m\u001b[0;34m(\u001b[0m\u001b[0;34m[\u001b[0m\u001b[0;36m3\u001b[0m\u001b[0;34m,\u001b[0m\u001b[0;36m4\u001b[0m\u001b[0;34m,\u001b[0m\u001b[0;36m4\u001b[0m\u001b[0;34m]\u001b[0m\u001b[0;34m)\u001b[0m\u001b[0;34m\u001b[0m\u001b[0;34m\u001b[0m\u001b[0m\n\u001b[0m",
            "\u001b[0;31mTypeError\u001b[0m: unhashable type: 'list'"
          ]
        }
      ]
    },
    {
      "cell_type": "code",
      "source": [
        "s.add((3,4,4))"
      ],
      "metadata": {
        "id": "Y-vtIP55qY_S"
      },
      "execution_count": 12,
      "outputs": []
    },
    {
      "cell_type": "code",
      "source": [
        "s"
      ],
      "metadata": {
        "colab": {
          "base_uri": "https://localhost:8080/"
        },
        "id": "6k2eDJP9qeTj",
        "outputId": "5ca3a0c4-ecff-40f3-c595-a04dfbaf10d7"
      },
      "execution_count": 13,
      "outputs": [
        {
          "output_type": "execute_result",
          "data": {
            "text/plain": [
              "{(3, 4, 4), 1, 2, 3, 4, 5}"
            ]
          },
          "metadata": {},
          "execution_count": 13
        }
      ]
    },
    {
      "cell_type": "markdown",
      "source": [
        "## **Lists are mutable and hence not hashable**\n",
        "## **Tuples are immutable and hence hashable**\n",
        "## **Tuples can be added to Sets and not Lists**"
      ],
      "metadata": {
        "id": "Uq3dcP-Qt6xF"
      }
    },
    {
      "cell_type": "markdown",
      "source": [
        "![image.png](data:image/png;base64,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)"
      ],
      "metadata": {
        "id": "Z6Vsiuzoqf0R"
      }
    },
    {
      "cell_type": "code",
      "source": [
        "for i in range(10):\n",
        "  s.add(i)\n",
        "print(s)"
      ],
      "metadata": {
        "colab": {
          "base_uri": "https://localhost:8080/"
        },
        "id": "Pyo_5kSsqele",
        "outputId": "5eed6c35-a5b1-4e04-a8c1-110ab58bf7b5"
      },
      "execution_count": 14,
      "outputs": [
        {
          "output_type": "stream",
          "name": "stdout",
          "text": [
            "{0, 1, 2, 3, 4, 5, 6, 7, 8, 9, (3, 4, 4)}\n"
          ]
        }
      ]
    },
    {
      "cell_type": "code",
      "source": [
        "s.add((3,4,4))\n",
        "s"
      ],
      "metadata": {
        "colab": {
          "base_uri": "https://localhost:8080/"
        },
        "id": "TorPFpuNqzOA",
        "outputId": "5cc9bd02-2780-4db8-b43e-2f1f5b30e846"
      },
      "execution_count": 15,
      "outputs": [
        {
          "output_type": "execute_result",
          "data": {
            "text/plain": [
              "{(3, 4, 4), 0, 1, 2, 3, 4, 5, 6, 7, 8, 9}"
            ]
          },
          "metadata": {},
          "execution_count": 15
        }
      ]
    },
    {
      "cell_type": "code",
      "source": [
        "s.add((3,4))"
      ],
      "metadata": {
        "id": "Wq0F_h30tzGC"
      },
      "execution_count": 16,
      "outputs": []
    },
    {
      "cell_type": "code",
      "source": [
        "s"
      ],
      "metadata": {
        "colab": {
          "base_uri": "https://localhost:8080/"
        },
        "id": "rEFXD4xyt092",
        "outputId": "400e0898-55ed-43b4-93d9-48c1967f9527"
      },
      "execution_count": 17,
      "outputs": [
        {
          "output_type": "execute_result",
          "data": {
            "text/plain": [
              "{(3, 4), (3, 4, 4), 0, 1, 2, 3, 4, 5, 6, 7, 8, 9}"
            ]
          },
          "metadata": {},
          "execution_count": 17
        }
      ]
    },
    {
      "cell_type": "markdown",
      "source": [
        "## **Sets are unordered, and hence can't be accessed by an index**\n",
        "## **can look through the set items though**\n",
        "## **also you can use the \"in\" keyword**"
      ],
      "metadata": {
        "id": "EPUL0xL3uf1N"
      }
    },
    {
      "cell_type": "code",
      "source": [
        "s"
      ],
      "metadata": {
        "colab": {
          "base_uri": "https://localhost:8080/"
        },
        "id": "yARBvDL2t1iJ",
        "outputId": "f29f87ec-890f-4bc2-ba41-15f87c3eda6a"
      },
      "execution_count": 18,
      "outputs": [
        {
          "output_type": "execute_result",
          "data": {
            "text/plain": [
              "{(3, 4), (3, 4, 4), 0, 1, 2, 3, 4, 5, 6, 7, 8, 9}"
            ]
          },
          "metadata": {},
          "execution_count": 18
        }
      ]
    },
    {
      "cell_type": "code",
      "source": [
        "(3,4) in s"
      ],
      "metadata": {
        "colab": {
          "base_uri": "https://localhost:8080/"
        },
        "id": "k0JZusKUur9l",
        "outputId": "88f6940b-549e-4427-ee16-6b817b40e9fa"
      },
      "execution_count": 19,
      "outputs": [
        {
          "output_type": "execute_result",
          "data": {
            "text/plain": [
              "True"
            ]
          },
          "metadata": {},
          "execution_count": 19
        }
      ]
    },
    {
      "cell_type": "code",
      "source": [
        "set([1, 2, 3, 4, 5, 6, 7, 8, 9, 10, 11, 12])"
      ],
      "metadata": {
        "colab": {
          "base_uri": "https://localhost:8080/"
        },
        "id": "2HOGPjrwu2Zt",
        "outputId": "b247b202-e47c-4bb1-b999-7a212a1b61e6"
      },
      "execution_count": 23,
      "outputs": [
        {
          "output_type": "execute_result",
          "data": {
            "text/plain": [
              "{1, 2, 3, 4, 5, 6, 7, 8, 9, 10, 11, 12}"
            ]
          },
          "metadata": {},
          "execution_count": 23
        }
      ]
    },
    {
      "cell_type": "code",
      "source": [
        "set([1, 2, 3, 4, 5, 6, 7, 8, 9, 10, [11, 12]])"
      ],
      "metadata": {
        "colab": {
          "base_uri": "https://localhost:8080/",
          "height": 166
        },
        "id": "oWS6X7GTuuMm",
        "outputId": "a72f0c62-2e42-4a47-a5c5-0ea9b1f06c68"
      },
      "execution_count": 24,
      "outputs": [
        {
          "output_type": "error",
          "ename": "TypeError",
          "evalue": "ignored",
          "traceback": [
            "\u001b[0;31m---------------------------------------------------------------------------\u001b[0m",
            "\u001b[0;31mTypeError\u001b[0m                                 Traceback (most recent call last)",
            "\u001b[0;32m<ipython-input-24-8eb757e53a99>\u001b[0m in \u001b[0;36m<module>\u001b[0;34m()\u001b[0m\n\u001b[0;32m----> 1\u001b[0;31m \u001b[0mset\u001b[0m\u001b[0;34m(\u001b[0m\u001b[0;34m[\u001b[0m\u001b[0;36m1\u001b[0m\u001b[0;34m,\u001b[0m \u001b[0;36m2\u001b[0m\u001b[0;34m,\u001b[0m \u001b[0;36m3\u001b[0m\u001b[0;34m,\u001b[0m \u001b[0;36m4\u001b[0m\u001b[0;34m,\u001b[0m \u001b[0;36m5\u001b[0m\u001b[0;34m,\u001b[0m \u001b[0;36m6\u001b[0m\u001b[0;34m,\u001b[0m \u001b[0;36m7\u001b[0m\u001b[0;34m,\u001b[0m \u001b[0;36m8\u001b[0m\u001b[0;34m,\u001b[0m \u001b[0;36m9\u001b[0m\u001b[0;34m,\u001b[0m \u001b[0;36m10\u001b[0m\u001b[0;34m,\u001b[0m \u001b[0;34m[\u001b[0m\u001b[0;36m11\u001b[0m\u001b[0;34m,\u001b[0m \u001b[0;36m12\u001b[0m\u001b[0;34m]\u001b[0m\u001b[0;34m]\u001b[0m\u001b[0;34m)\u001b[0m\u001b[0;34m\u001b[0m\u001b[0;34m\u001b[0m\u001b[0m\n\u001b[0m",
            "\u001b[0;31mTypeError\u001b[0m: unhashable type: 'list'"
          ]
        }
      ]
    },
    {
      "cell_type": "code",
      "source": [
        "s.pop()"
      ],
      "metadata": {
        "colab": {
          "base_uri": "https://localhost:8080/"
        },
        "id": "Z8ZkgXHtu7kL",
        "outputId": "da090bae-af9c-4879-eb3e-15d52d21b804"
      },
      "execution_count": 25,
      "outputs": [
        {
          "output_type": "execute_result",
          "data": {
            "text/plain": [
              "0"
            ]
          },
          "metadata": {},
          "execution_count": 25
        }
      ]
    },
    {
      "cell_type": "code",
      "source": [
        "s"
      ],
      "metadata": {
        "colab": {
          "base_uri": "https://localhost:8080/"
        },
        "id": "6NdSVRnCu8fK",
        "outputId": "2fdb001e-8faf-44a9-c48c-3314a38ac915"
      },
      "execution_count": 26,
      "outputs": [
        {
          "output_type": "execute_result",
          "data": {
            "text/plain": [
              "{(3, 4), (3, 4, 4), 1, 2, 3, 4, 5, 6, 7, 8, 9}"
            ]
          },
          "metadata": {},
          "execution_count": 26
        }
      ]
    },
    {
      "cell_type": "code",
      "source": [
        "s.pop()"
      ],
      "metadata": {
        "colab": {
          "base_uri": "https://localhost:8080/"
        },
        "id": "mlQNs9BIu9QB",
        "outputId": "c203cb70-4e04-48b4-d9f2-4060de2daee6"
      },
      "execution_count": 27,
      "outputs": [
        {
          "output_type": "execute_result",
          "data": {
            "text/plain": [
              "1"
            ]
          },
          "metadata": {},
          "execution_count": 27
        }
      ]
    },
    {
      "cell_type": "code",
      "source": [
        "s"
      ],
      "metadata": {
        "colab": {
          "base_uri": "https://localhost:8080/"
        },
        "id": "xcFqgQc0u-YR",
        "outputId": "c42a14ce-e2cd-418f-e351-94edc9420d3e"
      },
      "execution_count": 28,
      "outputs": [
        {
          "output_type": "execute_result",
          "data": {
            "text/plain": [
              "{(3, 4), (3, 4, 4), 2, 3, 4, 5, 6, 7, 8, 9}"
            ]
          },
          "metadata": {},
          "execution_count": 28
        }
      ]
    },
    {
      "cell_type": "code",
      "source": [
        "s.pop((3,4))"
      ],
      "metadata": {
        "colab": {
          "base_uri": "https://localhost:8080/",
          "height": 166
        },
        "id": "5_ipqP5RwA32",
        "outputId": "d0d8cfcd-2fcf-45e3-8484-ead8cfaf53de"
      },
      "execution_count": 29,
      "outputs": [
        {
          "output_type": "error",
          "ename": "TypeError",
          "evalue": "ignored",
          "traceback": [
            "\u001b[0;31m---------------------------------------------------------------------------\u001b[0m",
            "\u001b[0;31mTypeError\u001b[0m                                 Traceback (most recent call last)",
            "\u001b[0;32m<ipython-input-29-9aff35e46eab>\u001b[0m in \u001b[0;36m<module>\u001b[0;34m()\u001b[0m\n\u001b[0;32m----> 1\u001b[0;31m \u001b[0ms\u001b[0m\u001b[0;34m.\u001b[0m\u001b[0mpop\u001b[0m\u001b[0;34m(\u001b[0m\u001b[0;34m(\u001b[0m\u001b[0;36m3\u001b[0m\u001b[0;34m,\u001b[0m\u001b[0;36m4\u001b[0m\u001b[0;34m)\u001b[0m\u001b[0;34m)\u001b[0m\u001b[0;34m\u001b[0m\u001b[0;34m\u001b[0m\u001b[0m\n\u001b[0m",
            "\u001b[0;31mTypeError\u001b[0m: pop() takes no arguments (1 given)"
          ]
        }
      ]
    },
    {
      "cell_type": "code",
      "source": [
        "for i in range(len(s)):\n",
        "  s.pop()\n",
        "  print(s)"
      ],
      "metadata": {
        "colab": {
          "base_uri": "https://localhost:8080/"
        },
        "id": "fX4-DZKNwFvH",
        "outputId": "8337a9cb-0eaa-474f-c245-f6c34d5de9b1"
      },
      "execution_count": 30,
      "outputs": [
        {
          "output_type": "stream",
          "name": "stdout",
          "text": [
            "{3, 4, 5, 6, 7, 8, 9, (3, 4, 4), (3, 4)}\n",
            "{4, 5, 6, 7, 8, 9, (3, 4, 4), (3, 4)}\n",
            "{5, 6, 7, 8, 9, (3, 4, 4), (3, 4)}\n",
            "{6, 7, 8, 9, (3, 4, 4), (3, 4)}\n",
            "{7, 8, 9, (3, 4, 4), (3, 4)}\n",
            "{8, 9, (3, 4, 4), (3, 4)}\n",
            "{9, (3, 4, 4), (3, 4)}\n",
            "{(3, 4, 4), (3, 4)}\n",
            "{(3, 4)}\n",
            "set()\n"
          ]
        }
      ]
    },
    {
      "cell_type": "code",
      "source": [
        "s = {9,8,7,6,5,4,3,2,1}\n",
        "for i in range(len(s)):\n",
        "  print(list(s))\n",
        "  s.pop()"
      ],
      "metadata": {
        "colab": {
          "base_uri": "https://localhost:8080/"
        },
        "id": "XYYTKcY2wMFf",
        "outputId": "37350d09-7765-4643-949a-b7e733682df6"
      },
      "execution_count": 33,
      "outputs": [
        {
          "output_type": "stream",
          "name": "stdout",
          "text": [
            "[1, 2, 3, 4, 5, 6, 7, 8, 9]\n",
            "[2, 3, 4, 5, 6, 7, 8, 9]\n",
            "[3, 4, 5, 6, 7, 8, 9]\n",
            "[4, 5, 6, 7, 8, 9]\n",
            "[5, 6, 7, 8, 9]\n",
            "[6, 7, 8, 9]\n",
            "[7, 8, 9]\n",
            "[8, 9]\n",
            "[9]\n"
          ]
        }
      ]
    },
    {
      "cell_type": "code",
      "source": [
        ""
      ],
      "metadata": {
        "id": "Kw7buuFRwa_V"
      },
      "execution_count": null,
      "outputs": []
    },
    {
      "cell_type": "markdown",
      "source": [
        "## **Typecasting objects into Sets**"
      ],
      "metadata": {
        "id": "Uw-BqxA91sdG"
      }
    },
    {
      "cell_type": "code",
      "source": [
        "set('hello')"
      ],
      "metadata": {
        "colab": {
          "base_uri": "https://localhost:8080/"
        },
        "id": "W_X9D_eb1ugH",
        "outputId": "6398872c-ba09-4bfb-a706-0d601d2c3091"
      },
      "execution_count": 34,
      "outputs": [
        {
          "output_type": "execute_result",
          "data": {
            "text/plain": [
              "{'e', 'h', 'l', 'o'}"
            ]
          },
          "metadata": {},
          "execution_count": 34
        }
      ]
    },
    {
      "cell_type": "code",
      "source": [
        "set([1,2,3,3,1,12])"
      ],
      "metadata": {
        "colab": {
          "base_uri": "https://localhost:8080/"
        },
        "id": "E2UVsSwP1vc5",
        "outputId": "92c71749-2855-40a4-f801-c7d53a90dea6"
      },
      "execution_count": 35,
      "outputs": [
        {
          "output_type": "execute_result",
          "data": {
            "text/plain": [
              "{1, 2, 3, 12}"
            ]
          },
          "metadata": {},
          "execution_count": 35
        }
      ]
    },
    {
      "cell_type": "code",
      "source": [
        "set((1,2,3,3,23,23,3))"
      ],
      "metadata": {
        "colab": {
          "base_uri": "https://localhost:8080/"
        },
        "id": "xyxEPTti1xzj",
        "outputId": "4db8067d-b6ea-43d9-99b3-362d14538dcc"
      },
      "execution_count": 36,
      "outputs": [
        {
          "output_type": "execute_result",
          "data": {
            "text/plain": [
              "{1, 2, 3, 23}"
            ]
          },
          "metadata": {},
          "execution_count": 36
        }
      ]
    },
    {
      "cell_type": "code",
      "source": [
        "s1 = set([2,3,3,23,12,12,120,210])\n",
        "s2 = set([3,12,123123123,1,23,23,12213,12])\n",
        "s1.update(s2)"
      ],
      "metadata": {
        "id": "2mFYVHkz109v"
      },
      "execution_count": 40,
      "outputs": []
    },
    {
      "cell_type": "code",
      "source": [
        "s1"
      ],
      "metadata": {
        "colab": {
          "base_uri": "https://localhost:8080/"
        },
        "id": "Lij8QiMt1-RR",
        "outputId": "8255a543-6f82-4771-ad02-c8c5ae6adec5"
      },
      "execution_count": 41,
      "outputs": [
        {
          "output_type": "execute_result",
          "data": {
            "text/plain": [
              "{1, 2, 3, 12, 23, 120, 210, 12213, 123123123}"
            ]
          },
          "metadata": {},
          "execution_count": 41
        }
      ]
    },
    {
      "cell_type": "code",
      "source": [
        "s2"
      ],
      "metadata": {
        "colab": {
          "base_uri": "https://localhost:8080/"
        },
        "id": "fmzaES0a1_PE",
        "outputId": "20fcca54-056a-430a-b576-b8b798400823"
      },
      "execution_count": 42,
      "outputs": [
        {
          "output_type": "execute_result",
          "data": {
            "text/plain": [
              "{1, 3, 12, 23, 12213, 123123123}"
            ]
          },
          "metadata": {},
          "execution_count": 42
        }
      ]
    },
    {
      "cell_type": "code",
      "source": [
        "s1.difference(s2)"
      ],
      "metadata": {
        "colab": {
          "base_uri": "https://localhost:8080/"
        },
        "id": "wR20_jUq2Fhd",
        "outputId": "30a5d379-e55e-45d9-c96f-de6260674ffe"
      },
      "execution_count": 43,
      "outputs": [
        {
          "output_type": "execute_result",
          "data": {
            "text/plain": [
              "{2, 120, 210}"
            ]
          },
          "metadata": {},
          "execution_count": 43
        }
      ]
    },
    {
      "cell_type": "code",
      "source": [
        "s1.intersection(s2)"
      ],
      "metadata": {
        "colab": {
          "base_uri": "https://localhost:8080/"
        },
        "id": "zg1H0-I12H03",
        "outputId": "2d7fc5ea-df8c-48e2-a702-47ea3c28949f"
      },
      "execution_count": 44,
      "outputs": [
        {
          "output_type": "execute_result",
          "data": {
            "text/plain": [
              "{1, 3, 12, 23, 12213, 123123123}"
            ]
          },
          "metadata": {},
          "execution_count": 44
        }
      ]
    },
    {
      "cell_type": "code",
      "source": [
        "s1.issubset(s2)"
      ],
      "metadata": {
        "colab": {
          "base_uri": "https://localhost:8080/"
        },
        "id": "OngL5brP2LT_",
        "outputId": "aa1be9ac-4622-42f9-ede7-63a6c6de253e"
      },
      "execution_count": 45,
      "outputs": [
        {
          "output_type": "execute_result",
          "data": {
            "text/plain": [
              "False"
            ]
          },
          "metadata": {},
          "execution_count": 45
        }
      ]
    },
    {
      "cell_type": "code",
      "source": [
        "s2.issubset(s1)"
      ],
      "metadata": {
        "colab": {
          "base_uri": "https://localhost:8080/"
        },
        "id": "gSpuIrsk2PCl",
        "outputId": "b1bd79ea-2292-4bb0-daa9-bf60f65e86e0"
      },
      "execution_count": 46,
      "outputs": [
        {
          "output_type": "execute_result",
          "data": {
            "text/plain": [
              "True"
            ]
          },
          "metadata": {},
          "execution_count": 46
        }
      ]
    },
    {
      "cell_type": "code",
      "source": [
        "s1.symmetric_difference(s2)"
      ],
      "metadata": {
        "colab": {
          "base_uri": "https://localhost:8080/"
        },
        "id": "mO_MKZX82QGE",
        "outputId": "89f367dd-2cbf-4937-a04a-6b26887bca25"
      },
      "execution_count": 47,
      "outputs": [
        {
          "output_type": "execute_result",
          "data": {
            "text/plain": [
              "{2, 120, 210}"
            ]
          },
          "metadata": {},
          "execution_count": 47
        }
      ]
    },
    {
      "cell_type": "markdown",
      "source": [
        "## **Dictionaries**"
      ],
      "metadata": {
        "id": "YopLNyak2YgM"
      }
    },
    {
      "cell_type": "code",
      "source": [
        "d = {}\n",
        "d1 = dict()\n",
        "type(d), type(d1)"
      ],
      "metadata": {
        "colab": {
          "base_uri": "https://localhost:8080/"
        },
        "id": "N2dxxyOr2Shx",
        "outputId": "731695db-f3c6-43bc-a26c-5b7478dcd4ef"
      },
      "execution_count": 48,
      "outputs": [
        {
          "output_type": "execute_result",
          "data": {
            "text/plain": [
              "(dict, dict)"
            ]
          },
          "metadata": {},
          "execution_count": 48
        }
      ]
    },
    {
      "cell_type": "code",
      "source": [
        "d2 = {1: 'Geeks', 2: 'For', 3: {'A': 'Welcome', 'B': 'To', 'C': 'Geeks'}}\n",
        "d2"
      ],
      "metadata": {
        "colab": {
          "base_uri": "https://localhost:8080/"
        },
        "id": "2oUAgDaONNX2",
        "outputId": "3ca595b5-2381-49c6-e2ae-2445ec3613a3"
      },
      "execution_count": 49,
      "outputs": [
        {
          "output_type": "execute_result",
          "data": {
            "text/plain": [
              "{1: 'Geeks', 2: 'For', 3: {'A': 'Welcome', 'B': 'To', 'C': 'Geeks'}}"
            ]
          },
          "metadata": {},
          "execution_count": 49
        }
      ]
    },
    {
      "cell_type": "code",
      "source": [
        "d2.keys()"
      ],
      "metadata": {
        "colab": {
          "base_uri": "https://localhost:8080/"
        },
        "id": "13vmshXgNV4-",
        "outputId": "94f5ad05-ba43-487b-ca7b-40ea82a91602"
      },
      "execution_count": 51,
      "outputs": [
        {
          "output_type": "execute_result",
          "data": {
            "text/plain": [
              "dict_keys([1, 2, 3])"
            ]
          },
          "metadata": {},
          "execution_count": 51
        }
      ]
    },
    {
      "cell_type": "code",
      "source": [
        "d2.values()"
      ],
      "metadata": {
        "colab": {
          "base_uri": "https://localhost:8080/"
        },
        "id": "dtsrbgvSNWsK",
        "outputId": "058af586-a968-4702-bf03-f38da52dfdcd"
      },
      "execution_count": 52,
      "outputs": [
        {
          "output_type": "execute_result",
          "data": {
            "text/plain": [
              "dict_values(['Geeks', 'For', {'A': 'Welcome', 'B': 'To', 'C': 'Geeks'}])"
            ]
          },
          "metadata": {},
          "execution_count": 52
        }
      ]
    },
    {
      "cell_type": "code",
      "source": [
        "d3 = {1: 'Greeks', 'name': 'For', 3: 'Geeks'}\n",
        "d3[1]"
      ],
      "metadata": {
        "colab": {
          "base_uri": "https://localhost:8080/",
          "height": 35
        },
        "id": "h29RcO6bNYyV",
        "outputId": "b50e9b72-08f7-4a38-e9d3-8597f7c28927"
      },
      "execution_count": 59,
      "outputs": [
        {
          "output_type": "execute_result",
          "data": {
            "text/plain": [
              "'Greeks'"
            ],
            "application/vnd.google.colaboratory.intrinsic+json": {
              "type": "string"
            }
          },
          "metadata": {},
          "execution_count": 59
        }
      ]
    },
    {
      "cell_type": "code",
      "source": [
        "d3['name']"
      ],
      "metadata": {
        "colab": {
          "base_uri": "https://localhost:8080/",
          "height": 35
        },
        "id": "8UtkG8GgNnYZ",
        "outputId": "40d643de-50e6-4eb5-e9da-1dc404591cb3"
      },
      "execution_count": 60,
      "outputs": [
        {
          "output_type": "execute_result",
          "data": {
            "text/plain": [
              "'For'"
            ],
            "application/vnd.google.colaboratory.intrinsic+json": {
              "type": "string"
            }
          },
          "metadata": {},
          "execution_count": 60
        }
      ]
    },
    {
      "cell_type": "code",
      "source": [
        "d3[3]"
      ],
      "metadata": {
        "colab": {
          "base_uri": "https://localhost:8080/",
          "height": 35
        },
        "id": "va90ixaCNoer",
        "outputId": "ee5ec857-8cc7-4fc1-e4d8-a8a553f220f0"
      },
      "execution_count": 61,
      "outputs": [
        {
          "output_type": "execute_result",
          "data": {
            "text/plain": [
              "'Geeks'"
            ],
            "application/vnd.google.colaboratory.intrinsic+json": {
              "type": "string"
            }
          },
          "metadata": {},
          "execution_count": 61
        }
      ]
    },
    {
      "cell_type": "code",
      "source": [
        "d3.get(3), d3.get(1), d3.get('name')"
      ],
      "metadata": {
        "colab": {
          "base_uri": "https://localhost:8080/"
        },
        "id": "U0SgzFzSNrIg",
        "outputId": "b62833a6-50a6-48cc-e7dc-be3569d0b9d1"
      },
      "execution_count": 62,
      "outputs": [
        {
          "output_type": "execute_result",
          "data": {
            "text/plain": [
              "('Geeks', 'Greeks', 'For')"
            ]
          },
          "metadata": {},
          "execution_count": 62
        }
      ]
    },
    {
      "cell_type": "code",
      "source": [
        "# dict methods\n",
        "d1 = {'a': [1,2,3,4], 'b':(3,45,5,5,55)}\n",
        "print(d1)\n",
        "d1.clear()\n",
        "print(d1)"
      ],
      "metadata": {
        "colab": {
          "base_uri": "https://localhost:8080/"
        },
        "id": "1IIsRYRhNudN",
        "outputId": "26b7e20e-e313-44c1-9260-952b946db8d9"
      },
      "execution_count": 65,
      "outputs": [
        {
          "output_type": "stream",
          "name": "stdout",
          "text": [
            "{'a': [1, 2, 3, 4], 'b': (3, 45, 5, 5, 55)}\n",
            "{}\n"
          ]
        }
      ]
    },
    {
      "cell_type": "code",
      "source": [
        "d1 = {'a': [1,2,3,4], 'b':(3,45,5,5,55)}\n",
        "d11 = d1\n",
        "print(d11)\n",
        "d1.clear()\n",
        "d11"
      ],
      "metadata": {
        "colab": {
          "base_uri": "https://localhost:8080/"
        },
        "id": "I_NieYvXOUkX",
        "outputId": "01a0e4e6-4841-4709-bd5d-18500403866d"
      },
      "execution_count": 67,
      "outputs": [
        {
          "output_type": "stream",
          "name": "stdout",
          "text": [
            "{'a': [1, 2, 3, 4], 'b': (3, 45, 5, 5, 55)}\n"
          ]
        },
        {
          "output_type": "execute_result",
          "data": {
            "text/plain": [
              "{}"
            ]
          },
          "metadata": {},
          "execution_count": 67
        }
      ]
    },
    {
      "cell_type": "code",
      "source": [
        ""
      ],
      "metadata": {
        "id": "64d7LynyOnmB"
      },
      "execution_count": null,
      "outputs": []
    },
    {
      "cell_type": "code",
      "source": [
        "d1 = {'a': [1,2,3,4], 'b':(3,45,5,5,55)}\n",
        "d11 = d1.copy()\n",
        "print(d11)\n",
        "d1.clear()\n",
        "print(d1)\n",
        "d11"
      ],
      "metadata": {
        "colab": {
          "base_uri": "https://localhost:8080/"
        },
        "outputId": "581f032c-6756-4500-b44f-d550a9962792",
        "id": "wQyg2OviOqfW"
      },
      "execution_count": 69,
      "outputs": [
        {
          "output_type": "stream",
          "name": "stdout",
          "text": [
            "{'a': [1, 2, 3, 4], 'b': (3, 45, 5, 5, 55)}\n",
            "{}\n"
          ]
        },
        {
          "output_type": "execute_result",
          "data": {
            "text/plain": [
              "{'a': [1, 2, 3, 4], 'b': (3, 45, 5, 5, 55)}"
            ]
          },
          "metadata": {},
          "execution_count": 69
        }
      ]
    },
    {
      "cell_type": "code",
      "source": [
        "d1 = {'a': [1,2,3,4], 'b':(3,45,5,5,55)}\n",
        "d1.get('a'), d1.get('b')"
      ],
      "metadata": {
        "colab": {
          "base_uri": "https://localhost:8080/"
        },
        "id": "tet95Q87Orme",
        "outputId": "d8660f99-d72c-4861-b184-11964cfad1ff"
      },
      "execution_count": 71,
      "outputs": [
        {
          "output_type": "execute_result",
          "data": {
            "text/plain": [
              "([1, 2, 3, 4], (3, 45, 5, 5, 55))"
            ]
          },
          "metadata": {},
          "execution_count": 71
        }
      ]
    },
    {
      "cell_type": "code",
      "source": [
        "d1 = {'a': [1,2,3,4], 'b':(3,45,5,5,55)}\n",
        "list(d1.items())"
      ],
      "metadata": {
        "colab": {
          "base_uri": "https://localhost:8080/"
        },
        "id": "W2XhyxNFOzWl",
        "outputId": "349ae808-bee2-4963-b337-8b12e2c0e3bd"
      },
      "execution_count": 74,
      "outputs": [
        {
          "output_type": "execute_result",
          "data": {
            "text/plain": [
              "[('a', [1, 2, 3, 4]), ('b', (3, 45, 5, 5, 55))]"
            ]
          },
          "metadata": {},
          "execution_count": 74
        }
      ]
    },
    {
      "cell_type": "code",
      "source": [
        "d1.update({'a': [3,4,4,2,3]})\n",
        "d1"
      ],
      "metadata": {
        "colab": {
          "base_uri": "https://localhost:8080/"
        },
        "id": "1Tc2wi2wO4PV",
        "outputId": "29625617-a0f2-4242-df5a-243cd44cf9c3"
      },
      "execution_count": 76,
      "outputs": [
        {
          "output_type": "execute_result",
          "data": {
            "text/plain": [
              "{'a': [3, 4, 4, 2, 3], 'b': (3, 45, 5, 5, 55)}"
            ]
          },
          "metadata": {},
          "execution_count": 76
        }
      ]
    },
    {
      "cell_type": "code",
      "source": [
        "d1.update({'aa': [3,4,4,2,3]})\n",
        "d1"
      ],
      "metadata": {
        "colab": {
          "base_uri": "https://localhost:8080/"
        },
        "id": "Flo_QyQbPKrq",
        "outputId": "520ba906-ceba-4e9b-a77a-e75bd6e884a0"
      },
      "execution_count": 77,
      "outputs": [
        {
          "output_type": "execute_result",
          "data": {
            "text/plain": [
              "{'a': [3, 4, 4, 2, 3], 'aa': [3, 4, 4, 2, 3], 'b': (3, 45, 5, 5, 55)}"
            ]
          },
          "metadata": {},
          "execution_count": 77
        }
      ]
    }
  ]
}