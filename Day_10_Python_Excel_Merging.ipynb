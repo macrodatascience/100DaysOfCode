{
  "nbformat": 4,
  "nbformat_minor": 0,
  "metadata": {
    "colab": {
      "name": "Day 10_Python_Excel_Merging.ipynb",
      "provenance": [],
      "collapsed_sections": [],
      "authorship_tag": "ABX9TyOdh6L+qrj/ApooNhE0/r1C",
      "include_colab_link": true
    },
    "kernelspec": {
      "name": "python3",
      "display_name": "Python 3"
    },
    "language_info": {
      "name": "python"
    }
  },
  "cells": [
    {
      "cell_type": "markdown",
      "metadata": {
        "id": "view-in-github",
        "colab_type": "text"
      },
      "source": [
        "<a href=\"https://colab.research.google.com/github/macrodatascience/100DaysOfCode/blob/main/Day_10_Python_Excel_Merging.ipynb\" target=\"_parent\"><img src=\"https://colab.research.google.com/assets/colab-badge.svg\" alt=\"Open In Colab\"/></a>"
      ]
    },
    {
      "cell_type": "code",
      "execution_count": 3,
      "metadata": {
        "colab": {
          "base_uri": "https://localhost:8080/"
        },
        "id": "9K0k-ArRdR_A",
        "outputId": "4566e79a-a052-43c0-82ce-180a925dcd62"
      },
      "outputs": [
        {
          "output_type": "stream",
          "name": "stdout",
          "text": [
            "Index(['Region', 'Country'], dtype='object')\n",
            "Index(['Country', 'Code'], dtype='object')\n",
            "Index(['Continent', 'Currency Market'], dtype='object')\n",
            "Index(['Currency Market', 'Currency Code'], dtype='object')\n",
            "   Continent Currency Market Currency Code\n",
            "0       Asia           India           INR\n",
            "1       Asia           China           CNY\n",
            "2       Asia           Korea           KRW\n",
            "3       Asia       Indonesia           IDR\n",
            "4       Asia          Taiwan           TWD\n",
            "5       Asia        Malaysia           MYR\n",
            "6     Europe         Germany           EUR\n",
            "7     Europe          France           EUR\n",
            "8     Europe              UK           GBP\n",
            "9     Europe           Spain           EUR\n",
            "10    Europe           Italy           EUR\n",
            "11    Europe         Ireland           EUR\n",
            "12    Europe        Portugal           EUR\n",
            "13    Europe          Russia           RUB\n",
            "14    Europe          Turkey           TRY\n",
            "15    Europe          Poland           PLN\n",
            "16    Europe         Hungary           HUF\n",
            "17    Europe           Czech           CZK\n",
            "18    Europe         Romania           RON\n",
            "19   America             USA           USD\n",
            "20   America          Canada           CAD\n",
            "21   America          Mexico           MXN\n",
            "22   America          Brazil           BRL\n",
            "23   America        Colombia           COP\n",
            "24   America           Chile           CLP\n",
            "25   America            Peru           PEN\n",
            "26   America       Argentina              \n"
          ]
        }
      ],
      "source": [
        "import numpy as np \n",
        "import pandas as pd\n",
        "initial_xls = '/content/Region.xlsx'\n",
        "other_xls = '/content/FXCodes.xlsx'\n",
        "output_xls = '/content/outfx.xlsx'\n",
        "\n",
        "df_initial = pd.read_excel(initial_xls)\n",
        "df_other = pd.read_excel(other_xls)\n",
        "print(df_initial.columns)\n",
        "print(df_other.columns)\n",
        "\n",
        "df_initial.rename(columns = {'Country': 'Currency Market', 'Region': 'Continent'}, inplace=True)\n",
        "print(df_initial.columns)\n",
        "df_other.rename(columns = {'Country': 'Currency Market', 'Code': 'Currency Code'}, inplace=True)\n",
        "print(df_other.columns)\n",
        "df_out = pd.merge(df_initial, df_other[['Currency Market', 'Currency Code']], on = 'Currency Market', how = 'left')\n",
        "# print(df_out)\n",
        "df_out = df_out.replace(np.nan,'')\n",
        "print(df_out)\n",
        "df_out.to_excel(output_xls, index=False)"
      ]
    }
  ]
}