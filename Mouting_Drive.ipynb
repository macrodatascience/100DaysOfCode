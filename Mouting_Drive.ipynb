{
  "nbformat": 4,
  "nbformat_minor": 0,
  "metadata": {
    "colab": {
      "name": "Mouting Drive.ipynb",
      "provenance": [],
      "mount_file_id": "1FIeKeihbt4ZYg0_LL52tKgm7LqZC5wgE",
      "authorship_tag": "ABX9TyNH0ONg/YuDlI17dfNmlmsU",
      "include_colab_link": true
    },
    "kernelspec": {
      "name": "python3",
      "display_name": "Python 3"
    },
    "language_info": {
      "name": "python"
    }
  },
  "cells": [
    {
      "cell_type": "markdown",
      "metadata": {
        "id": "view-in-github",
        "colab_type": "text"
      },
      "source": [
        "<a href=\"https://colab.research.google.com/github/macrodatascience/100DaysOfCode/blob/main/Mouting_Drive.ipynb\" target=\"_parent\"><img src=\"https://colab.research.google.com/assets/colab-badge.svg\" alt=\"Open In Colab\"/></a>"
      ]
    },
    {
      "cell_type": "code",
      "execution_count": null,
      "metadata": {
        "colab": {
          "base_uri": "https://localhost:8080/"
        },
        "id": "TlrN6EzvUz0n",
        "outputId": "e1e62fe1-60ef-4ccf-ed8d-d3c56a9e883e"
      },
      "outputs": [
        {
          "output_type": "stream",
          "name": "stdout",
          "text": [
            "Mounted at /content/gdrive\n"
          ]
        }
      ],
      "source": [
        "# Mounting Google Drive\n",
        "\n",
        "from google.colab import drive\n",
        "drive.mount('/content/gdrive')"
      ]
    },
    {
      "cell_type": "code",
      "source": [
        "# Read a file\n",
        "\n",
        "gdrive_path = '/content/gdrive/MyDrive/Colab Notebooks/'\n",
        "count=0\n",
        "with open(f'{gdrive_path}teams.csv', 'r') as file:\n",
        "  for line in file:\n",
        "    count+=1\n",
        "  print(count)"
      ],
      "metadata": {
        "colab": {
          "base_uri": "https://localhost:8080/"
        },
        "id": "gBKDAjjoWS98",
        "outputId": "d1795411-d85e-4491-e20c-127997d93209"
      },
      "execution_count": null,
      "outputs": [
        {
          "output_type": "stream",
          "name": "stdout",
          "text": [
            "2015\n"
          ]
        }
      ]
    },
    {
      "cell_type": "code",
      "source": [
        "# Write a file\n",
        "\n",
        "with open(f'{gdrive_path}hello.txt', 'w') as file:\n",
        "  file.write(\"Hello Google Drive!\")"
      ],
      "metadata": {
        "id": "E2hhnyHjWxEt"
      },
      "execution_count": null,
      "outputs": []
    },
    {
      "cell_type": "code",
      "source": [
        "!cat /content/gdrive/MyDrive/Colab\\ Notebooks/hello.txt"
      ],
      "metadata": {
        "colab": {
          "base_uri": "https://localhost:8080/"
        },
        "id": "VYw1CvkZW_B5",
        "outputId": "5f0f0347-baf9-4805-ef37-64b399e4fa43"
      },
      "execution_count": null,
      "outputs": [
        {
          "output_type": "stream",
          "name": "stdout",
          "text": [
            "Hello Google Drive!"
          ]
        }
      ]
    },
    {
      "cell_type": "code",
      "source": [
        ""
      ],
      "metadata": {
        "id": "sfBDTsj4XosJ"
      },
      "execution_count": null,
      "outputs": []
    }
  ]
}