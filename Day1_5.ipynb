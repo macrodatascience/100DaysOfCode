{
  "nbformat": 4,
  "nbformat_minor": 0,
  "metadata": {
    "colab": {
      "name": "Day1-5.ipynb",
      "provenance": [],
      "authorship_tag": "ABX9TyOrYiwCEhDXq8JO1hxBOjRm",
      "include_colab_link": true
    },
    "kernelspec": {
      "name": "python3",
      "display_name": "Python 3"
    },
    "language_info": {
      "name": "python"
    }
  },
  "cells": [
    {
      "cell_type": "markdown",
      "metadata": {
        "id": "view-in-github",
        "colab_type": "text"
      },
      "source": [
        "<a href=\"https://colab.research.google.com/github/macrodatascience/100DaysOfCode/blob/main/Day1_5.ipynb\" target=\"_parent\"><img src=\"https://colab.research.google.com/assets/colab-badge.svg\" alt=\"Open In Colab\"/></a>"
      ]
    },
    {
      "cell_type": "code",
      "source": [
        "import this"
      ],
      "metadata": {
        "colab": {
          "base_uri": "https://localhost:8080/"
        },
        "id": "8V805keGJj-W",
        "outputId": "6ed9cfb8-8670-4368-d3ea-be7be607bacc"
      },
      "execution_count": null,
      "outputs": [
        {
          "output_type": "stream",
          "name": "stdout",
          "text": [
            "The Zen of Python, by Tim Peters\n",
            "\n",
            "Beautiful is better than ugly.\n",
            "Explicit is better than implicit.\n",
            "Simple is better than complex.\n",
            "Complex is better than complicated.\n",
            "Flat is better than nested.\n",
            "Sparse is better than dense.\n",
            "Readability counts.\n",
            "Special cases aren't special enough to break the rules.\n",
            "Although practicality beats purity.\n",
            "Errors should never pass silently.\n",
            "Unless explicitly silenced.\n",
            "In the face of ambiguity, refuse the temptation to guess.\n",
            "There should be one-- and preferably only one --obvious way to do it.\n",
            "Although that way may not be obvious at first unless you're Dutch.\n",
            "Now is better than never.\n",
            "Although never is often better than *right* now.\n",
            "If the implementation is hard to explain, it's a bad idea.\n",
            "If the implementation is easy to explain, it may be a good idea.\n",
            "Namespaces are one honking great idea -- let's do more of those!\n"
          ]
        }
      ]
    },
    {
      "cell_type": "code",
      "source": [
        "# Day 1\n",
        "# Docstrings \n",
        "# Always include a docstring in any function\n",
        "\n",
        "def sum(a,b):\n",
        "  '''\n",
        "  Takes two input parameters and returns the sum\n",
        "  '''\n",
        "  return a + b\n",
        "print(sum.__doc__)\n",
        "print(sum(10,20))"
      ],
      "metadata": {
        "colab": {
          "base_uri": "https://localhost:8080/"
        },
        "id": "oHYBWf1Pv5Db",
        "outputId": "4aa6cdb1-63f0-4899-ec50-4162426d489f"
      },
      "execution_count": null,
      "outputs": [
        {
          "output_type": "stream",
          "name": "stdout",
          "text": [
            "\n",
            "  Takes two input parameters and returns the sum\n",
            "  \n",
            "30\n"
          ]
        }
      ]
    },
    {
      "cell_type": "code",
      "source": [
        "# Day 2\n",
        "# A function that returns another function\n",
        "\n",
        "def outer():\n",
        "  ''' This function returns another function '''\n",
        "  def inner():\n",
        "    ''' This is the inner function that will be returned '''\n",
        "    print(\"Executing inner()\")\n",
        "    print(1)\n",
        "  return inner\n",
        "\n",
        "print(outer())\n",
        "print(outer()())"
      ],
      "metadata": {
        "colab": {
          "base_uri": "https://localhost:8080/"
        },
        "id": "POaTXav0f5kw",
        "outputId": "15cf6bfc-509d-42b8-a672-e4c582b610fa"
      },
      "execution_count": null,
      "outputs": [
        {
          "output_type": "stream",
          "name": "stdout",
          "text": [
            "<function outer.<locals>.inner at 0x7f93359de170>\n",
            "Executing inner()\n",
            "1\n",
            "None\n"
          ]
        }
      ]
    },
    {
      "cell_type": "code",
      "source": [
        "# Day 3\n",
        "\n",
        "\"Python\"[::-1]"
      ],
      "metadata": {
        "colab": {
          "base_uri": "https://localhost:8080/",
          "height": 35
        },
        "id": "qZoxtjjb5kbf",
        "outputId": "3fd28a08-fe4c-4ff5-96af-afa9f4f8119b"
      },
      "execution_count": null,
      "outputs": [
        {
          "output_type": "execute_result",
          "data": {
            "text/plain": [
              "'nohtyP'"
            ],
            "application/vnd.google.colaboratory.intrinsic+json": {
              "type": "string"
            }
          },
          "metadata": {},
          "execution_count": 1
        }
      ]
    },
    {
      "cell_type": "code",
      "source": [
        "# Day 4\n",
        "'''\n",
        "This script does a system health check by reading the disk and cpu utilization rates\n",
        "shutil module contains disk_usage() which returns total, used, and free space in bytes\n",
        "psutil module contains cpu_percent() which returns the percentage of cpu utilized\n",
        "'''\n",
        "\n",
        "import shutil\n",
        "import psutil\n",
        "\n",
        "def disk_health(disk,i=0):\n",
        "  \n",
        "  disk_usg = shutil.disk_usage(disk)\n",
        "  disk_used = (disk_usg.used/disk_usg.total)*100\n",
        "  disk_free = (disk_usg.free/disk_usg.total)*100\n",
        "  if i:\n",
        "    print(\"Disk Stats :{:.5}% utlized and {:.5}% free\".format(disk_used, disk_free))\n",
        "  return disk_free > 20\n",
        "\n",
        "disk_health('/',2)\n",
        "\n",
        "def cpu_health(time_frame):\n",
        "  \n",
        "  cpu_usg = psutil.cpu_percent(1)  # time_frame passed as 1 minute\n",
        "  print(\"Average % of CPU used: {}\".format(cpu_usg))\n",
        "  return cpu_usg < 75\n",
        "\n",
        "if disk_health('/') and cpu_health(5):\n",
        "  print(\"System utilization rates are sustainable\")\n",
        "else:\n",
        "  print(\"System is unsustainable and clean disk and shut down\")"
      ],
      "metadata": {
        "id": "A1skhtQo6Cwc",
        "colab": {
          "base_uri": "https://localhost:8080/"
        },
        "outputId": "c3101961-a798-4ee1-a92f-789693aa0dac"
      },
      "execution_count": 43,
      "outputs": [
        {
          "output_type": "stream",
          "name": "stdout",
          "text": [
            "Disk Stats :36.686% utlized and 63.3% free\n",
            "Average % of CPU used: 5.0\n",
            "System utilization rates are sustainable\n"
          ]
        }
      ]
    },
    {
      "cell_type": "code",
      "execution_count": null,
      "metadata": {
        "id": "4hhWFi1si0eQ"
      },
      "outputs": [],
      "source": [
        "# Day 5\n",
        "\n",
        "import numpy as np\n",
        "import pandas as pd"
      ]
    },
    {
      "cell_type": "code",
      "source": [
        "class Sensor():\n",
        "  def __init__(self, name, location, record_date):\n",
        "    ''' init method to initialize the class attributes '''\n",
        "    self.name = name\n",
        "    self.location = location\n",
        "    self.record_date = record_date\n",
        "    self.data = {}\n",
        "  \n",
        "  def add_data(self, t, data1, data2):\n",
        "    ''' add method to add the data to the dictionary '''\n",
        "    self.data['time'] = t\n",
        "    self.data['data1'] = data1\n",
        "    self.data['data2'] = data2\n",
        "    print(f'We saved {len(self.data)} points')\n",
        "  \n",
        "  def sum_cols(self):\n",
        "    ''' converts data to pandas dataframe and sums two columns '''\n",
        "    print(f'Name: {self.name}, location: {self.location}')\n",
        "    print(f'Time: {self.record_date}')\n",
        "    df = pd.DataFrame.from_dict(self.data)\n",
        "    df = df.set_index('time')\n",
        "    df['sum'] = df['data1'] + df['data2']\n",
        "    return df\n",
        "\n",
        "  def clear_data(self):\n",
        "    self.data = {}\n",
        "    print('Dict data is cleared')\n"
      ],
      "metadata": {
        "id": "SmfULSxUjNYP"
      },
      "execution_count": null,
      "outputs": []
    },
    {
      "cell_type": "code",
      "source": [
        "sensor1 = Sensor('sensor1', 'Frankfurt', '2019-01-01')"
      ],
      "metadata": {
        "id": "TaUlJ3V2q5Lj"
      },
      "execution_count": null,
      "outputs": []
    },
    {
      "cell_type": "code",
      "source": [
        "np.arange(10), \n",
        "data = np.random.randint(-10,5,10) \n",
        "data1 = np.random.randint(-1,5,10)\n",
        "t = np.arange(10)\n",
        "sensor1.add_data(t, data, data1)\n",
        "sensor1.sum_cols()"
      ],
      "metadata": {
        "colab": {
          "base_uri": "https://localhost:8080/",
          "height": 446
        },
        "id": "_5AF4XeisVxA",
        "outputId": "dc41598c-74d4-48c8-b7b5-3c7a1c6701c5"
      },
      "execution_count": null,
      "outputs": [
        {
          "output_type": "stream",
          "name": "stdout",
          "text": [
            "We saved 3 points\n",
            "Name: sensor1, location: Frankfurt\n",
            "Time: 2019-01-01\n"
          ]
        },
        {
          "output_type": "execute_result",
          "data": {
            "text/html": [
              "\n",
              "  <div id=\"df-08df61e6-568f-4d22-88ac-10c69ba54e84\">\n",
              "    <div class=\"colab-df-container\">\n",
              "      <div>\n",
              "<style scoped>\n",
              "    .dataframe tbody tr th:only-of-type {\n",
              "        vertical-align: middle;\n",
              "    }\n",
              "\n",
              "    .dataframe tbody tr th {\n",
              "        vertical-align: top;\n",
              "    }\n",
              "\n",
              "    .dataframe thead th {\n",
              "        text-align: right;\n",
              "    }\n",
              "</style>\n",
              "<table border=\"1\" class=\"dataframe\">\n",
              "  <thead>\n",
              "    <tr style=\"text-align: right;\">\n",
              "      <th></th>\n",
              "      <th>data1</th>\n",
              "      <th>data2</th>\n",
              "      <th>sum</th>\n",
              "    </tr>\n",
              "    <tr>\n",
              "      <th>time</th>\n",
              "      <th></th>\n",
              "      <th></th>\n",
              "      <th></th>\n",
              "    </tr>\n",
              "  </thead>\n",
              "  <tbody>\n",
              "    <tr>\n",
              "      <th>0</th>\n",
              "      <td>1</td>\n",
              "      <td>4</td>\n",
              "      <td>5</td>\n",
              "    </tr>\n",
              "    <tr>\n",
              "      <th>1</th>\n",
              "      <td>-9</td>\n",
              "      <td>1</td>\n",
              "      <td>-8</td>\n",
              "    </tr>\n",
              "    <tr>\n",
              "      <th>2</th>\n",
              "      <td>-4</td>\n",
              "      <td>4</td>\n",
              "      <td>0</td>\n",
              "    </tr>\n",
              "    <tr>\n",
              "      <th>3</th>\n",
              "      <td>-10</td>\n",
              "      <td>0</td>\n",
              "      <td>-10</td>\n",
              "    </tr>\n",
              "    <tr>\n",
              "      <th>4</th>\n",
              "      <td>1</td>\n",
              "      <td>0</td>\n",
              "      <td>1</td>\n",
              "    </tr>\n",
              "    <tr>\n",
              "      <th>5</th>\n",
              "      <td>-2</td>\n",
              "      <td>1</td>\n",
              "      <td>-1</td>\n",
              "    </tr>\n",
              "    <tr>\n",
              "      <th>6</th>\n",
              "      <td>2</td>\n",
              "      <td>4</td>\n",
              "      <td>6</td>\n",
              "    </tr>\n",
              "    <tr>\n",
              "      <th>7</th>\n",
              "      <td>0</td>\n",
              "      <td>0</td>\n",
              "      <td>0</td>\n",
              "    </tr>\n",
              "    <tr>\n",
              "      <th>8</th>\n",
              "      <td>1</td>\n",
              "      <td>2</td>\n",
              "      <td>3</td>\n",
              "    </tr>\n",
              "    <tr>\n",
              "      <th>9</th>\n",
              "      <td>-5</td>\n",
              "      <td>0</td>\n",
              "      <td>-5</td>\n",
              "    </tr>\n",
              "  </tbody>\n",
              "</table>\n",
              "</div>\n",
              "      <button class=\"colab-df-convert\" onclick=\"convertToInteractive('df-08df61e6-568f-4d22-88ac-10c69ba54e84')\"\n",
              "              title=\"Convert this dataframe to an interactive table.\"\n",
              "              style=\"display:none;\">\n",
              "        \n",
              "  <svg xmlns=\"http://www.w3.org/2000/svg\" height=\"24px\"viewBox=\"0 0 24 24\"\n",
              "       width=\"24px\">\n",
              "    <path d=\"M0 0h24v24H0V0z\" fill=\"none\"/>\n",
              "    <path d=\"M18.56 5.44l.94 2.06.94-2.06 2.06-.94-2.06-.94-.94-2.06-.94 2.06-2.06.94zm-11 1L8.5 8.5l.94-2.06 2.06-.94-2.06-.94L8.5 2.5l-.94 2.06-2.06.94zm10 10l.94 2.06.94-2.06 2.06-.94-2.06-.94-.94-2.06-.94 2.06-2.06.94z\"/><path d=\"M17.41 7.96l-1.37-1.37c-.4-.4-.92-.59-1.43-.59-.52 0-1.04.2-1.43.59L10.3 9.45l-7.72 7.72c-.78.78-.78 2.05 0 2.83L4 21.41c.39.39.9.59 1.41.59.51 0 1.02-.2 1.41-.59l7.78-7.78 2.81-2.81c.8-.78.8-2.07 0-2.86zM5.41 20L4 18.59l7.72-7.72 1.47 1.35L5.41 20z\"/>\n",
              "  </svg>\n",
              "      </button>\n",
              "      \n",
              "  <style>\n",
              "    .colab-df-container {\n",
              "      display:flex;\n",
              "      flex-wrap:wrap;\n",
              "      gap: 12px;\n",
              "    }\n",
              "\n",
              "    .colab-df-convert {\n",
              "      background-color: #E8F0FE;\n",
              "      border: none;\n",
              "      border-radius: 50%;\n",
              "      cursor: pointer;\n",
              "      display: none;\n",
              "      fill: #1967D2;\n",
              "      height: 32px;\n",
              "      padding: 0 0 0 0;\n",
              "      width: 32px;\n",
              "    }\n",
              "\n",
              "    .colab-df-convert:hover {\n",
              "      background-color: #E2EBFA;\n",
              "      box-shadow: 0px 1px 2px rgba(60, 64, 67, 0.3), 0px 1px 3px 1px rgba(60, 64, 67, 0.15);\n",
              "      fill: #174EA6;\n",
              "    }\n",
              "\n",
              "    [theme=dark] .colab-df-convert {\n",
              "      background-color: #3B4455;\n",
              "      fill: #D2E3FC;\n",
              "    }\n",
              "\n",
              "    [theme=dark] .colab-df-convert:hover {\n",
              "      background-color: #434B5C;\n",
              "      box-shadow: 0px 1px 3px 1px rgba(0, 0, 0, 0.15);\n",
              "      filter: drop-shadow(0px 1px 2px rgba(0, 0, 0, 0.3));\n",
              "      fill: #FFFFFF;\n",
              "    }\n",
              "  </style>\n",
              "\n",
              "      <script>\n",
              "        const buttonEl =\n",
              "          document.querySelector('#df-08df61e6-568f-4d22-88ac-10c69ba54e84 button.colab-df-convert');\n",
              "        buttonEl.style.display =\n",
              "          google.colab.kernel.accessAllowed ? 'block' : 'none';\n",
              "\n",
              "        async function convertToInteractive(key) {\n",
              "          const element = document.querySelector('#df-08df61e6-568f-4d22-88ac-10c69ba54e84');\n",
              "          const dataTable =\n",
              "            await google.colab.kernel.invokeFunction('convertToInteractive',\n",
              "                                                     [key], {});\n",
              "          if (!dataTable) return;\n",
              "\n",
              "          const docLinkHtml = 'Like what you see? Visit the ' +\n",
              "            '<a target=\"_blank\" href=https://colab.research.google.com/notebooks/data_table.ipynb>data table notebook</a>'\n",
              "            + ' to learn more about interactive tables.';\n",
              "          element.innerHTML = '';\n",
              "          dataTable['output_type'] = 'display_data';\n",
              "          await google.colab.output.renderOutput(dataTable, element);\n",
              "          const docLink = document.createElement('div');\n",
              "          docLink.innerHTML = docLinkHtml;\n",
              "          element.appendChild(docLink);\n",
              "        }\n",
              "      </script>\n",
              "    </div>\n",
              "  </div>\n",
              "  "
            ],
            "text/plain": [
              "      data1  data2  sum\n",
              "time                   \n",
              "0         1      4    5\n",
              "1        -9      1   -8\n",
              "2        -4      4    0\n",
              "3       -10      0  -10\n",
              "4         1      0    1\n",
              "5        -2      1   -1\n",
              "6         2      4    6\n",
              "7         0      0    0\n",
              "8         1      2    3\n",
              "9        -5      0   -5"
            ]
          },
          "metadata": {},
          "execution_count": 39
        }
      ]
    },
    {
      "cell_type": "code",
      "source": [
        " np.random.randint(-10,10,10)"
      ],
      "metadata": {
        "colab": {
          "base_uri": "https://localhost:8080/"
        },
        "id": "T_KNRHxTrC8v",
        "outputId": "303e7408-572c-4be8-c17c-bd79467d1ffa"
      },
      "execution_count": null,
      "outputs": [
        {
          "output_type": "execute_result",
          "data": {
            "text/plain": [
              "array([ 8, -2, -3,  5, -3,  9,  3, -1,  1,  5])"
            ]
          },
          "metadata": {},
          "execution_count": 18
        }
      ]
    }
  ]
}